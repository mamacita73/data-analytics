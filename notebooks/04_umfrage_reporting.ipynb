{
 "cells": [
  {
   "cell_type": "markdown",
   "id": "5ef24536",
   "metadata": {},
   "source": [
    "\n",
    "# 04 · Umfrage-Reporting (Stichprobe 2025) — Optimiert (v2)\n",
    "\n",
    "Diese Version behebt einen Fehler bei den Fehlerbalken (Matplotlib: `'xerr' must not contain negative values`).\n",
    "Die Konfidenzintervalle werden jetzt **aus den tatsächlichen Zählungen** der Stichprobe berechnet und eventuelle\n",
    "numerische Rundungsartefakte werden **abgesichert (geclippt)**.\n"
   ]
  },
  {
   "cell_type": "code",
   "id": "45929048",
   "metadata": {
    "ExecuteTime": {
     "end_time": "2025-08-31T15:31:09.884292Z",
     "start_time": "2025-08-31T15:31:09.858605Z"
    }
   },
   "source": [
    "\n",
    "# Cell 1: Setup & Daten laden\n",
    "from __future__ import annotations\n",
    "\n",
    "from pathlib import Path\n",
    "import json, math\n",
    "import numpy as np\n",
    "import pandas as pd\n",
    "import matplotlib.pyplot as plt\n",
    "import matplotlib.ticker as mtick\n",
    "\n",
    "BASE = Path.cwd().resolve().parents[0] if Path.cwd().name.lower()==\"notebooks\" else Path.cwd()\n",
    "DATA = BASE / \"data\"\n",
    "OUT  = DATA / \"processed\"\n",
    "FIG  = (BASE / \"reports\" / \"figures\"); FIG.mkdir(parents=True, exist_ok=True)\n",
    "\n",
    "CONFIG = json.loads((OUT / \"project_config.json\").read_text(encoding=\"utf-8\"))\n",
    "KANON  = CONFIG[\"kanon\"]\n",
    "\n",
    "LONG_PATH = OUT / \"umfrage_2025_long.csv\"\n",
    "WIDE_PATH = OUT / \"umfrage_2025_wide.csv\"\n",
    "assert LONG_PATH.exists(), f\"Fehlt: {LONG_PATH}. Bitte zuerst 04_umfrage_ingest ausführen.\"\n",
    "assert WIDE_PATH.exists(), f\"Fehlt: {WIDE_PATH}. Bitte zuerst 04_umfrage_ingest ausführen.\"\n",
    "\n",
    "df_long = pd.read_csv(LONG_PATH)\n",
    "df_wide = pd.read_csv(WIDE_PATH).set_index(\"Kategorie\").reindex(KANON).fillna(0.0)\n",
    "\n",
    "# Respondenten-N: aus Long-Export\n",
    "# Bei single-choice: Sum(cnt) == N; bei multi-choice: cnt_sum >= N; wir nehmen das Maximum als N.\n",
    "N_resp = int(df_long[\"cnt\"].max())\n",
    "\n",
    "# Wide-Prozente robust lesen\n",
    "def _to_int_if_year(c):\n",
    "    s = str(c).strip()\n",
    "    if s.endswith(\".0\") and s[:-2].isdigit():\n",
    "        s = s[:-2]\n",
    "    return int(s) if s.isdigit() else s\n",
    "df_wide.columns = [_to_int_if_year(c) for c in df_wide.columns]\n",
    "assert 2025 in df_wide.columns, \"Spalte 2025 fehlt in umfrage_2025_wide.csv\"\n",
    "\n",
    "share_2025 = df_wide[2025].rename(\"share_%\").reindex(KANON).fillna(0.0)\n",
    "df_share = pd.DataFrame({\"Kategorie\": KANON, \"share_%\": share_2025.values}).set_index(\"Kategorie\")\n",
    "\n",
    "# Zählungen je Kategorie für 2025 (tatsächliche k)\n",
    "cnt_2025 = (df_long.query(\"year == 2025\")[[\"Kategorie\",\"cnt\"]]\n",
    "                  .set_index(\"Kategorie\").reindex(KANON).fillna(0).astype(int)[\"cnt\"])\n"
   ],
   "outputs": [],
   "execution_count": 13
  },
  {
   "cell_type": "code",
   "id": "10f6f66b",
   "metadata": {
    "ExecuteTime": {
     "end_time": "2025-08-31T15:31:09.911211Z",
     "start_time": "2025-08-31T15:31:09.893305Z"
    }
   },
   "source": [
    "\n",
    "# Cell 2: Plot-Helfer (layout/labels)\n",
    "plt.rcParams.update({\n",
    "    \"figure.dpi\": 120,\n",
    "    \"savefig.dpi\": 300,\n",
    "    \"font.size\": 11,\n",
    "    \"axes.titlesize\": 12,\n",
    "    \"axes.labelsize\": 11,\n",
    "    \"axes.grid\": True,\n",
    "    \"grid.alpha\": 0.2,\n",
    "    \"axes.spines.top\": False,\n",
    "    \"axes.spines.right\": False,\n",
    "    \"figure.autolayout\": False,\n",
    "})\n",
    "\n",
    "def percent_axis(ax, axis=\"x\", decimals=0, limit=(0, 100), pad_pct=0):\n",
    "    lo, hi = limit\n",
    "    hi_padded = hi + float(pad_pct)\n",
    "    fmt = mtick.PercentFormatter(xmax=100, decimals=decimals)\n",
    "    if axis == \"x\":\n",
    "        ax.set_xlim(lo, hi_padded)\n",
    "        ax.xaxis.set_major_formatter(fmt)\n",
    "    else:\n",
    "        ax.set_ylim(lo, hi_padded)\n",
    "        ax.yaxis.set_major_formatter(fmt)\n",
    "\n",
    "def label_hbars_right(ax, bars, decimals=1, dx=1.0):\n",
    "    for rect in bars:\n",
    "        v = rect.get_width()\n",
    "        ax.text(v + dx, rect.get_y() + rect.get_height()/2,\n",
    "                f\"{v:.{decimals}f} %\", va=\"center\", ha=\"left\", fontsize=9, clip_on=False)\n",
    "\n",
    "def footer(note: str):\n",
    "    plt.figtext(0.01, -0.04, note, ha=\"left\", va=\"top\", fontsize=9)\n",
    "\n",
    "def save_fig(path: Path):\n",
    "    plt.savefig(path, bbox_inches=\"tight\", pad_inches=0.25, facecolor=\"white\")\n",
    "    plt.close()\n"
   ],
   "outputs": [],
   "execution_count": 14
  },
  {
   "cell_type": "code",
   "id": "881eedf7",
   "metadata": {
    "ExecuteTime": {
     "end_time": "2025-08-31T15:31:10.343143Z",
     "start_time": "2025-08-31T15:31:09.919654Z"
    }
   },
   "source": [
    "\n",
    "# Cell 3: Niveau (horizontal, sortiert) mit Außenlabels\n",
    "order = df_share[\"share_%\"].sort_values(ascending=True)\n",
    "fig, ax = plt.subplots(figsize=(10, 6), layout=\"constrained\")\n",
    "bars = ax.barh(order.index, order.values)\n",
    "label_hbars_right(ax, bars, decimals=1, dx=1.0)\n",
    "ax.set_title(\"Stichprobe 2025: Anteil Respondenten je Kategorie\")\n",
    "ax.set_xlabel(\"Anteil in %\")\n",
    "percent_axis(ax, axis=\"x\", decimals=0, limit=(0, 100), pad_pct=5)\n",
    "footer(f\"Stichprobe 2025 (N≈{N_resp}). Anteil = Respondenten mit ≥1 Auswahl je Kategorie. Quelle: eigene Umfrage.\")\n",
    "save_fig(FIG / \"04_sample_2025_niveau.png\")\n",
    "print(\"Exportiert →\", FIG / \"04_sample_2025_niveau.png\")\n"
   ],
   "outputs": [
    {
     "name": "stdout",
     "output_type": "stream",
     "text": [
      "Exportiert → D:\\Q3_2025\\data-analytics\\project\\reports\\figures\\04_sample_2025_niveau.png\n"
     ]
    }
   ],
   "execution_count": 15
  },
  {
   "cell_type": "code",
   "id": "9c4529c4",
   "metadata": {
    "ExecuteTime": {
     "end_time": "2025-08-31T15:31:10.742076Z",
     "start_time": "2025-08-31T15:31:10.350860Z"
    }
   },
   "source": [
    "\n",
    "# Cell 4: 95%-Konfidenzintervalle (Wilson) mit robustem xerr (nie negativ)\n",
    "def wilson_ci(k, n, z=1.96):\n",
    "    if n <= 0:\n",
    "        return (0.0, 0.0)\n",
    "    p = k / n\n",
    "    denom = 1 + z*z/n\n",
    "    center = (p + z*z/(2*n)) / denom\n",
    "    half = (z * ((p*(1-p)/n) + (z*z/(4*n*n)))**0.5) / denom\n",
    "    lo, hi = max(0.0, center - half), min(1.0, center + half)\n",
    "    return lo, hi\n",
    "\n",
    "# Vektoriell berechnen\n",
    "k_vec = cnt_2025.astype(float).values\n",
    "n = float(N_resp if N_resp else 1.0)\n",
    "p_vec = k_vec / n\n",
    "vals = p_vec * 100.0\n",
    "\n",
    "lo_list, hi_list = [], []\n",
    "for k in k_vec:\n",
    "    lo, hi = wilson_ci(k, n, z=1.96)\n",
    "    lo_list.append(lo*100.0)\n",
    "    hi_list.append(hi*100.0)\n",
    "lows  = np.array(lo_list, dtype=float)\n",
    "highs = np.array(hi_list, dtype=float)\n",
    "\n",
    "# Ordnung wie im Niveau-Plot\n",
    "order_idx = df_share[\"share_%\"].sort_values(ascending=True).index\n",
    "# Reindizieren\n",
    "vals  = pd.Series(vals, index=cnt_2025.index).reindex(order_idx).values\n",
    "lows  = pd.Series(lows, index=cnt_2025.index).reindex(order_idx).values\n",
    "highs = pd.Series(highs, index=cnt_2025.index).reindex(order_idx).values\n",
    "\n",
    "# xerr als (links, rechts) – niemals negativ, daher clip auf 0\n",
    "left_err  = np.clip(vals - lows,  0.0, None)\n",
    "right_err = np.clip(highs - vals, 0.0, None)\n",
    "\n",
    "y = np.arange(len(order_idx))\n",
    "fig, ax = plt.subplots(figsize=(10, 6), layout=\"constrained\")\n",
    "bars = ax.barh(order_idx, vals, zorder=1)\n",
    "ax.errorbar(x=vals, y=y, xerr=[left_err, right_err], fmt=\"none\", capsize=3, linewidth=1, zorder=2)\n",
    "label_hbars_right(ax, bars, decimals=1, dx=1.0)\n",
    "\n",
    "ax.set_title(\"Stichprobe 2025: Anteil je Kategorie mit 95%-Konfidenzintervallen (Wilson)\")\n",
    "ax.set_xlabel(\"Anteil in % (mit 95%-KI)\")\n",
    "percent_axis(ax, axis=\"x\", decimals=0, limit=(0, 100), pad_pct=5)\n",
    "ax.set_ylim(-0.5, len(order_idx)-0.5)\n",
    "\n",
    "footer(f\"Konfidenzintervalle: Wilson, z=1.96. N≈{N_resp}. Anteil = Respondenten mit ≥1 Auswahl je Kategorie.\")\n",
    "save_fig(FIG / \"04_sample_2025_niveau_ci.png\")\n",
    "print(\"Exportiert →\", FIG / \"04_sample_2025_niveau_ci.png\")\n"
   ],
   "outputs": [
    {
     "name": "stdout",
     "output_type": "stream",
     "text": [
      "Exportiert → D:\\Q3_2025\\data-analytics\\project\\reports\\figures\\04_sample_2025_niveau_ci.png\n"
     ]
    }
   ],
   "execution_count": 16
  },
  {
   "cell_type": "code",
   "id": "8208156f",
   "metadata": {
    "ExecuteTime": {
     "end_time": "2025-08-31T15:31:10.768861Z",
     "start_time": "2025-08-31T15:31:10.751765Z"
    }
   },
   "source": [
    "\n",
    "# Cell 5: Export-Tabelle (Rohwerte + KI)\n",
    "export = pd.DataFrame({\n",
    "    \"Kategorie\": KANON,\n",
    "    \"cnt_2025\": cnt_2025.reindex(KANON).values,\n",
    "    \"share_%\": df_share.reindex(KANON)[\"share_%\"].values,\n",
    "})\n",
    "# KI erneut (für CSV)\n",
    "def _wilson_row(k):\n",
    "    lo, hi = wilson_ci(float(k), float(N_resp if N_resp else 1.0), z=1.96)\n",
    "    return pd.Series({\"ci_low_%\": lo*100.0, \"ci_high_%\": hi*100.0})\n",
    "export = export.join(export[\"cnt_2025\"].apply(_wilson_row))\n",
    "\n",
    "out_csv = OUT / \"umfrage_2025_reporting_table.csv\"\n",
    "export.to_csv(out_csv, index=False, encoding=\"utf-8\")\n",
    "print(\"Tabelle exportiert →\", out_csv)\n"
   ],
   "outputs": [
    {
     "name": "stdout",
     "output_type": "stream",
     "text": [
      "Tabelle exportiert → D:\\Q3_2025\\data-analytics\\project\\data\\processed\\umfrage_2025_reporting_table.csv\n"
     ]
    }
   ],
   "execution_count": 17
  }
 ],
 "metadata": {},
 "nbformat": 4,
 "nbformat_minor": 5
}
