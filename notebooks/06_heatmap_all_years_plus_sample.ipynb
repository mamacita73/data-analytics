{
 "cells": [
  {
   "cell_type": "markdown",
   "id": "title-06h",
   "metadata": {},
   "source": [
    "# 06 · Heatmaps: 2021 / 2022 / 2024 + Stichprobe 2025",
    "",
    "Zwei Heatmaps:",
    "- **Werte-Heatmap** der Anteile in % pro Kategorie und Jahr",
    "- **Δ-Heatmap** (Stichprobe 2025 − Statista 2024) in **Prozentpunkten (pp)**",
    "",
    "Hinweis: Mehrfachnennungen möglich → Werte können > 100 % sein."
   ]
  },
  {
   "cell_type": "code",
   "id": "setup-06h",
   "metadata": {
    "ExecuteTime": {
     "end_time": "2025-08-31T18:05:30.293811Z",
     "start_time": "2025-08-31T18:05:30.266720Z"
    }
   },
   "source": [
    "# 06_heatmap_rows — Cell 1: Setup & Daten laden\n",
    "from __future__ import annotations\n",
    "from pathlib import Path\n",
    "import json\n",
    "import pandas as pd\n",
    "\n",
    "BASE = Path.cwd().resolve().parents[0] if Path.cwd().name.lower()==\"notebooks\" else Path.cwd()\n",
    "OUT  = BASE / \"data\" / \"processed\"\n",
    "FIG  = BASE / \"reports\" / \"figures\"\n",
    "TAB  = BASE / \"reports\" / \"tables\"\n",
    "FIG.mkdir(parents=True, exist_ok=True)\n",
    "TAB.mkdir(parents=True, exist_ok=True)\n",
    "\n",
    "CONFIG = json.loads((OUT / \"project_config.json\").read_text(encoding=\"utf-8\"))\n",
    "KANON  = CONFIG[\"kanon\"]\n",
    "\n",
    "# Datensätze laden\n",
    "stat_wide   = pd.read_csv(OUT / \"statista_harmonisiert_2021_2022_2024.csv\").set_index(\"Kategorie\").reindex(KANON).fillna(0.0)\n",
    "sample_wide = pd.read_csv(OUT / \"umfrage_2025_wide.csv\").set_index(\"Kategorie\").reindex(KANON).fillna(0.0)\n",
    "\n",
    "def _to_int_if_year(c):\n",
    "    s = str(c).strip()\n",
    "    if s.endswith(\".0\") and s[:-2].isdigit():\n",
    "        s = s[:-2]\n",
    "    return int(s) if s.isdigit() else s\n",
    "\n",
    "stat_wide.columns   = [_to_int_if_year(c) for c in stat_wide.columns]\n",
    "sample_wide.columns = [_to_int_if_year(c) for c in sample_wide.columns]\n",
    "\n",
    "YEARS = [y for y in [2021, 2022, 2024] if y in stat_wide.columns]\n",
    "assert YEARS, \"Keine Statista-Jahre gefunden.\"\n",
    "assert 2025 in sample_wide.columns, \"Stichprobe 2025 fehlt.\"\n",
    "\n",
    "# Kombinierte Matrix für die Heatmap (Spaltenreihenfolge: 2021, 2022, 2024, Stichprobe 2025)\n",
    "values = stat_wide[YEARS].copy()\n",
    "values[\"Stichprobe 2025\"] = sample_wide[2025]\n",
    "\n",
    "# Optional sortieren (nach 2024 aufsteigend, wenn vorhanden)\n",
    "order_by = 2024 if 2024 in values.columns else YEARS[-1]\n",
    "values = values.sort_values(order_by, ascending=True)\n",
    "\n",
    "display(values.head(3))\n"
   ],
   "outputs": [
    {
     "data": {
      "text/plain": [
       "                            2021  2022  2024  Stichprobe 2025\n",
       "Kategorie                                                    \n",
       "Möbel / Wohnaccessoires     38.0  32.0  15.0         0.000000\n",
       "Lebensmittel / Getränke     33.0  28.0  16.0        15.384615\n",
       "Bücher / Medien / Software   0.0  92.0  25.0        46.153846"
      ],
      "text/html": [
       "<div>\n",
       "<style scoped>\n",
       "    .dataframe tbody tr th:only-of-type {\n",
       "        vertical-align: middle;\n",
       "    }\n",
       "\n",
       "    .dataframe tbody tr th {\n",
       "        vertical-align: top;\n",
       "    }\n",
       "\n",
       "    .dataframe thead th {\n",
       "        text-align: right;\n",
       "    }\n",
       "</style>\n",
       "<table border=\"1\" class=\"dataframe\">\n",
       "  <thead>\n",
       "    <tr style=\"text-align: right;\">\n",
       "      <th></th>\n",
       "      <th>2021</th>\n",
       "      <th>2022</th>\n",
       "      <th>2024</th>\n",
       "      <th>Stichprobe 2025</th>\n",
       "    </tr>\n",
       "    <tr>\n",
       "      <th>Kategorie</th>\n",
       "      <th></th>\n",
       "      <th></th>\n",
       "      <th></th>\n",
       "      <th></th>\n",
       "    </tr>\n",
       "  </thead>\n",
       "  <tbody>\n",
       "    <tr>\n",
       "      <th>Möbel / Wohnaccessoires</th>\n",
       "      <td>38.0</td>\n",
       "      <td>32.0</td>\n",
       "      <td>15.0</td>\n",
       "      <td>0.000000</td>\n",
       "    </tr>\n",
       "    <tr>\n",
       "      <th>Lebensmittel / Getränke</th>\n",
       "      <td>33.0</td>\n",
       "      <td>28.0</td>\n",
       "      <td>16.0</td>\n",
       "      <td>15.384615</td>\n",
       "    </tr>\n",
       "    <tr>\n",
       "      <th>Bücher / Medien / Software</th>\n",
       "      <td>0.0</td>\n",
       "      <td>92.0</td>\n",
       "      <td>25.0</td>\n",
       "      <td>46.153846</td>\n",
       "    </tr>\n",
       "  </tbody>\n",
       "</table>\n",
       "</div>"
      ]
     },
     "metadata": {},
     "output_type": "display_data"
    }
   ],
   "execution_count": 3
  },
  {
   "cell_type": "code",
   "id": "style-06h",
   "metadata": {
    "ExecuteTime": {
     "end_time": "2025-08-31T18:05:30.319639Z",
     "start_time": "2025-08-31T18:05:30.305884Z"
    }
   },
   "source": [
    "# 06_heatmap_rows — Cell 2: Δ 2025–2024 (pp)\n",
    "if 2024 in values.columns:\n",
    "    delta = (values[\"Stichprobe 2025\"] - values[2024]).to_frame(name=\"Δ pp 2025–2024\")\n",
    "else:\n",
    "    delta = pd.DataFrame(index=values.index, data={\"Δ pp 2025–2024\": float(\"nan\")})\n",
    "\n",
    "display(delta.head(3))\n"
   ],
   "outputs": [
    {
     "data": {
      "text/plain": [
       "                            Δ pp 2025–2024\n",
       "Kategorie                                 \n",
       "Möbel / Wohnaccessoires         -15.000000\n",
       "Lebensmittel / Getränke          -0.615385\n",
       "Bücher / Medien / Software       21.153846"
      ],
      "text/html": [
       "<div>\n",
       "<style scoped>\n",
       "    .dataframe tbody tr th:only-of-type {\n",
       "        vertical-align: middle;\n",
       "    }\n",
       "\n",
       "    .dataframe tbody tr th {\n",
       "        vertical-align: top;\n",
       "    }\n",
       "\n",
       "    .dataframe thead th {\n",
       "        text-align: right;\n",
       "    }\n",
       "</style>\n",
       "<table border=\"1\" class=\"dataframe\">\n",
       "  <thead>\n",
       "    <tr style=\"text-align: right;\">\n",
       "      <th></th>\n",
       "      <th>Δ pp 2025–2024</th>\n",
       "    </tr>\n",
       "    <tr>\n",
       "      <th>Kategorie</th>\n",
       "      <th></th>\n",
       "    </tr>\n",
       "  </thead>\n",
       "  <tbody>\n",
       "    <tr>\n",
       "      <th>Möbel / Wohnaccessoires</th>\n",
       "      <td>-15.000000</td>\n",
       "    </tr>\n",
       "    <tr>\n",
       "      <th>Lebensmittel / Getränke</th>\n",
       "      <td>-0.615385</td>\n",
       "    </tr>\n",
       "    <tr>\n",
       "      <th>Bücher / Medien / Software</th>\n",
       "      <td>21.153846</td>\n",
       "    </tr>\n",
       "  </tbody>\n",
       "</table>\n",
       "</div>"
      ]
     },
     "metadata": {},
     "output_type": "display_data"
    }
   ],
   "execution_count": 4
  },
  {
   "cell_type": "code",
   "id": "heatmap-values-06h",
   "metadata": {
    "ExecuteTime": {
     "end_time": "2025-08-31T18:05:30.340145Z",
     "start_time": "2025-08-31T18:05:30.328845Z"
    }
   },
   "source": [
    "# 06_heatmap_rows — Cell 3: Pro Kategorie eine Zeile (Werte)\n",
    "lines_values = []\n",
    "cols = [\"2021\", \"2022\", \"2024\", \"Stichprobe 2025\"]\n",
    "# sichere Spaltenliste basierend auf real vorhandenen Spalten\n",
    "present_cols = [c for c in [2021, 2022, 2024] if c in values.columns] + [\"Stichprobe 2025\"]\n",
    "\n",
    "for cat, row in values.iterrows():\n",
    "    parts = [f\"{int(c)}={row[c]:.1f} %\" if isinstance(c, int) else f\"{c}={row[c]:.1f} %\"\n",
    "             for c in present_cols]\n",
    "    lines_values.append(f\"{cat}: \" + \" | \".join(parts))\n",
    "\n",
    "print(\"\\n\".join(lines_values))\n"
   ],
   "outputs": [
    {
     "name": "stdout",
     "output_type": "stream",
     "text": [
      "Möbel / Wohnaccessoires: 2021=38.0 % | 2022=32.0 % | 2024=15.0 % | Stichprobe 2025=0.0 %\n",
      "Lebensmittel / Getränke: 2021=33.0 % | 2022=28.0 % | 2024=16.0 % | Stichprobe 2025=15.4 %\n",
      "Bücher / Medien / Software: 2021=0.0 % | 2022=92.0 % | 2024=25.0 % | Stichprobe 2025=46.2 %\n",
      "Elektronik (z. B. Smartphones, Haushaltsgeräte): 2021=38.0 % | 2022=145.0 % | 2024=38.0 % | Stichprobe 2025=43.6 %\n",
      "Medikamente / Drogerieartikel: 2021=78.0 % | 2022=92.0 % | 2024=51.0 % | Stichprobe 2025=28.2 %\n",
      "Hobby- & Freizeitartikel: 2021=83.0 % | 2022=71.0 % | 2024=57.0 % | Stichprobe 2025=53.8 %\n",
      "Kleidung / Schuhe: 2021=57.0 % | 2022=78.0 % | 2024=106.0 % | Stichprobe 2025=69.2 %\n"
     ]
    }
   ],
   "execution_count": 5
  },
  {
   "cell_type": "code",
   "id": "heatmap-delta-06h",
   "metadata": {
    "ExecuteTime": {
     "end_time": "2025-08-31T18:05:30.369531Z",
     "start_time": "2025-08-31T18:05:30.361519Z"
    }
   },
   "source": [
    "# 06_heatmap_rows — Cell 4: Pro Kategorie eine Zeile (Δ 2025–2024)\n",
    "lines_delta = []\n",
    "for cat, v in delta[\"Δ pp 2025–2024\"].items():\n",
    "    if pd.isna(v):\n",
    "        lines_delta.append(f\"{cat}: Δ 2025–2024 = n/a\")\n",
    "    else:\n",
    "        lines_delta.append(f\"{cat}: Δ 2025–2024 = {v:+.1f} pp\")\n",
    "\n",
    "print(\"\\n\".join(lines_delta))\n"
   ],
   "outputs": [
    {
     "name": "stdout",
     "output_type": "stream",
     "text": [
      "Möbel / Wohnaccessoires: Δ 2025–2024 = -15.0 pp\n",
      "Lebensmittel / Getränke: Δ 2025–2024 = -0.6 pp\n",
      "Bücher / Medien / Software: Δ 2025–2024 = +21.2 pp\n",
      "Elektronik (z. B. Smartphones, Haushaltsgeräte): Δ 2025–2024 = +5.6 pp\n",
      "Medikamente / Drogerieartikel: Δ 2025–2024 = -22.8 pp\n",
      "Hobby- & Freizeitartikel: Δ 2025–2024 = -3.2 pp\n",
      "Kleidung / Schuhe: Δ 2025–2024 = -36.8 pp\n"
     ]
    }
   ],
   "execution_count": 6
  },
  {
   "metadata": {
    "ExecuteTime": {
     "end_time": "2025-08-31T18:05:30.409792Z",
     "start_time": "2025-08-31T18:05:30.392190Z"
    }
   },
   "cell_type": "code",
   "source": [
    "# 06_heatmap_rows — Cell 5: Exporte\n",
    "# TXT\n",
    "txt_values = TAB / \"06_heatmap_rows_values.txt\"\n",
    "txt_delta  = TAB / \"06_heatmap_rows_delta_2025_minus_2024.txt\"\n",
    "txt_values.write_text(\"\\n\".join(lines_values), encoding=\"utf-8\")\n",
    "txt_delta.write_text(\"\\n\".join(lines_delta),  encoding=\"utf-8\")\n",
    "print(\"TXT exportiert →\", txt_values)\n",
    "print(\"TXT exportiert →\", txt_delta)\n",
    "\n",
    "# CSV (Werte)\n",
    "csv_values = TAB / \"06_heatmap_values.csv\"\n",
    "values.to_csv(csv_values, encoding=\"utf-8\")\n",
    "print(\"CSV exportiert →\", csv_values)\n",
    "\n",
    "# CSV (Δ)\n",
    "csv_delta = TAB / \"06_heatmap_delta_2025_minus_2024.csv\"\n",
    "delta.to_csv(csv_delta, encoding=\"utf-8\")\n",
    "print(\"CSV exportiert →\", csv_delta)\n"
   ],
   "id": "9f5ca985fb8b3189",
   "outputs": [
    {
     "name": "stdout",
     "output_type": "stream",
     "text": [
      "TXT exportiert → D:\\Q3_2025\\data-analytics\\project\\reports\\tables\\06_heatmap_rows_values.txt\n",
      "TXT exportiert → D:\\Q3_2025\\data-analytics\\project\\reports\\tables\\06_heatmap_rows_delta_2025_minus_2024.txt\n",
      "CSV exportiert → D:\\Q3_2025\\data-analytics\\project\\reports\\tables\\06_heatmap_values.csv\n",
      "CSV exportiert → D:\\Q3_2025\\data-analytics\\project\\reports\\tables\\06_heatmap_delta_2025_minus_2024.csv\n"
     ]
    }
   ],
   "execution_count": 7
  }
 ],
 "metadata": {
  "kernelspec": {
   "name": "conda-base-py",
   "language": "python",
   "display_name": "Python [conda env:base] *"
  }
 },
 "nbformat": 4,
 "nbformat_minor": 5
}
