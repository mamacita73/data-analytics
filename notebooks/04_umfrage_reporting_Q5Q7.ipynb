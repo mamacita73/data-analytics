{
 "cells": [
  {
   "cell_type": "markdown",
   "id": "5ef24536",
   "metadata": {},
   "source": [
    "\n",
    "# 04 · Umfrage-Reporting (Stichprobe 2025) — Optimiert (v2)\n",
    "\n",
    "Diese Version behebt einen Fehler bei den Fehlerbalken (Matplotlib: `'xerr' must not contain negative values`).\n",
    "Die Konfidenzintervalle werden jetzt **aus den tatsächlichen Zählungen** der Stichprobe berechnet und eventuelle\n",
    "numerische Rundungsartefakte werden **abgesichert (geclippt)**.\n"
   ]
  },
  {
   "cell_type": "code",
   "id": "45929048",
   "metadata": {
    "ExecuteTime": {
     "end_time": "2025-08-31T16:22:32.369267Z",
     "start_time": "2025-08-31T16:22:32.347095Z"
    }
   },
   "source": [
    "\n",
    "# Cell 1: Setup & Daten laden\n",
    "from __future__ import annotations\n",
    "\n",
    "from pathlib import Path\n",
    "import json, math\n",
    "import numpy as np\n",
    "import pandas as pd\n",
    "import matplotlib.pyplot as plt\n",
    "import matplotlib.ticker as mtick\n",
    "\n",
    "BASE = Path.cwd().resolve().parents[0] if Path.cwd().name.lower()==\"notebooks\" else Path.cwd()\n",
    "DATA = BASE / \"data\"\n",
    "OUT  = DATA / \"processed\"\n",
    "FIG  = (BASE / \"reports\" / \"figures\"); FIG.mkdir(parents=True, exist_ok=True)\n",
    "\n",
    "CONFIG = json.loads((OUT / \"project_config.json\").read_text(encoding=\"utf-8\"))\n",
    "KANON  = CONFIG[\"kanon\"]\n",
    "\n",
    "LONG_PATH = OUT / \"umfrage_2025_long.csv\"\n",
    "WIDE_PATH = OUT / \"umfrage_2025_wide.csv\"\n",
    "assert LONG_PATH.exists(), f\"Fehlt: {LONG_PATH}. Bitte zuerst 04_umfrage_ingest ausführen.\"\n",
    "assert WIDE_PATH.exists(), f\"Fehlt: {WIDE_PATH}. Bitte zuerst 04_umfrage_ingest ausführen.\"\n",
    "\n",
    "df_long = pd.read_csv(LONG_PATH)\n",
    "df_wide = pd.read_csv(WIDE_PATH).set_index(\"Kategorie\").reindex(KANON).fillna(0.0)\n",
    "\n",
    "# Respondenten-N: aus Long-Export\n",
    "# Bei single-choice: Sum(cnt) == N; bei multi-choice: cnt_sum >= N; wir nehmen das Maximum als N.\n",
    "N_resp = int(df_long[\"cnt\"].max())\n",
    "\n",
    "# Wide-Prozente robust lesen\n",
    "def _to_int_if_year(c):\n",
    "    s = str(c).strip()\n",
    "    if s.endswith(\".0\") and s[:-2].isdigit():\n",
    "        s = s[:-2]\n",
    "    return int(s) if s.isdigit() else s\n",
    "df_wide.columns = [_to_int_if_year(c) for c in df_wide.columns]\n",
    "assert 2025 in df_wide.columns, \"Spalte 2025 fehlt in umfrage_2025_wide.csv\"\n",
    "\n",
    "share_2025 = df_wide[2025].rename(\"share_%\").reindex(KANON).fillna(0.0)\n",
    "df_share = pd.DataFrame({\"Kategorie\": KANON, \"share_%\": share_2025.values}).set_index(\"Kategorie\")\n",
    "\n",
    "# Zählungen je Kategorie für 2025 (tatsächliche k)\n",
    "cnt_2025 = (df_long.query(\"year == 2025\")[[\"Kategorie\",\"cnt\"]]\n",
    "                  .set_index(\"Kategorie\").reindex(KANON).fillna(0).astype(int)[\"cnt\"])\n"
   ],
   "outputs": [],
   "execution_count": 2
  },
  {
   "cell_type": "code",
   "id": "10f6f66b",
   "metadata": {
    "ExecuteTime": {
     "end_time": "2025-08-31T16:22:32.385650Z",
     "start_time": "2025-08-31T16:22:32.378195Z"
    }
   },
   "source": [
    "\n",
    "# Cell 2: Plot-Helfer (layout/labels)\n",
    "plt.rcParams.update({\n",
    "    \"figure.dpi\": 120,\n",
    "    \"savefig.dpi\": 300,\n",
    "    \"font.size\": 11,\n",
    "    \"axes.titlesize\": 12,\n",
    "    \"axes.labelsize\": 11,\n",
    "    \"axes.grid\": True,\n",
    "    \"grid.alpha\": 0.2,\n",
    "    \"axes.spines.top\": False,\n",
    "    \"axes.spines.right\": False,\n",
    "    \"figure.autolayout\": False,\n",
    "})\n",
    "\n",
    "def percent_axis(ax, axis=\"x\", decimals=0, limit=(0, 100), pad_pct=0):\n",
    "    lo, hi = limit\n",
    "    hi_padded = hi + float(pad_pct)\n",
    "    fmt = mtick.PercentFormatter(xmax=100, decimals=decimals)\n",
    "    if axis == \"x\":\n",
    "        ax.set_xlim(lo, hi_padded)\n",
    "        ax.xaxis.set_major_formatter(fmt)\n",
    "    else:\n",
    "        ax.set_ylim(lo, hi_padded)\n",
    "        ax.yaxis.set_major_formatter(fmt)\n",
    "\n",
    "def label_hbars_right(ax, bars, decimals=1, dx=1.0):\n",
    "    for rect in bars:\n",
    "        v = rect.get_width()\n",
    "        ax.text(v + dx, rect.get_y() + rect.get_height()/2,\n",
    "                f\"{v:.{decimals}f} %\", va=\"center\", ha=\"left\", fontsize=9, clip_on=False)\n",
    "\n",
    "def footer(note: str):\n",
    "    plt.figtext(0.01, -0.04, note, ha=\"left\", va=\"top\", fontsize=9)\n",
    "\n",
    "def save_fig(path: Path):\n",
    "    plt.savefig(path, bbox_inches=\"tight\", pad_inches=0.25, facecolor=\"white\")\n",
    "    plt.close()\n"
   ],
   "outputs": [],
   "execution_count": 3
  },
  {
   "cell_type": "code",
   "id": "881eedf7",
   "metadata": {
    "ExecuteTime": {
     "end_time": "2025-08-31T16:22:32.830252Z",
     "start_time": "2025-08-31T16:22:32.396747Z"
    }
   },
   "source": [
    "\n",
    "# Cell 3: Niveau (horizontal, sortiert) mit Außenlabels\n",
    "order = df_share[\"share_%\"].sort_values(ascending=True)\n",
    "fig, ax = plt.subplots(figsize=(10, 6), layout=\"constrained\")\n",
    "bars = ax.barh(order.index, order.values)\n",
    "label_hbars_right(ax, bars, decimals=1, dx=1.0)\n",
    "ax.set_title(\"Stichprobe 2025: Anteil Respondenten je Kategorie\")\n",
    "ax.set_xlabel(\"Anteil in %\")\n",
    "percent_axis(ax, axis=\"x\", decimals=0, limit=(0, 100), pad_pct=5)\n",
    "footer(f\"Stichprobe 2025 (N≈{N_resp}). Anteil = Respondenten mit ≥1 Auswahl je Kategorie. Quelle: eigene Umfrage.\")\n",
    "save_fig(FIG / \"04_sample_2025_niveau.png\")\n",
    "print(\"Exportiert →\", FIG / \"04_sample_2025_niveau.png\")\n"
   ],
   "outputs": [
    {
     "name": "stdout",
     "output_type": "stream",
     "text": [
      "Exportiert → D:\\Q3_2025\\data-analytics\\project\\reports\\figures\\04_sample_2025_niveau.png\n"
     ]
    }
   ],
   "execution_count": 4
  },
  {
   "cell_type": "code",
   "id": "9c4529c4",
   "metadata": {
    "ExecuteTime": {
     "end_time": "2025-08-31T16:22:33.208650Z",
     "start_time": "2025-08-31T16:22:32.840355Z"
    }
   },
   "source": [
    "\n",
    "# Cell 4: 95%-Konfidenzintervalle (Wilson) mit robustem xerr (nie negativ)\n",
    "def wilson_ci(k, n, z=1.96):\n",
    "    if n <= 0:\n",
    "        return (0.0, 0.0)\n",
    "    p = k / n\n",
    "    denom = 1 + z*z/n\n",
    "    center = (p + z*z/(2*n)) / denom\n",
    "    half = (z * ((p*(1-p)/n) + (z*z/(4*n*n)))**0.5) / denom\n",
    "    lo, hi = max(0.0, center - half), min(1.0, center + half)\n",
    "    return lo, hi\n",
    "\n",
    "# Vektoriell berechnen\n",
    "k_vec = cnt_2025.astype(float).values\n",
    "n = float(N_resp if N_resp else 1.0)\n",
    "p_vec = k_vec / n\n",
    "vals = p_vec * 100.0\n",
    "\n",
    "lo_list, hi_list = [], []\n",
    "for k in k_vec:\n",
    "    lo, hi = wilson_ci(k, n, z=1.96)\n",
    "    lo_list.append(lo*100.0)\n",
    "    hi_list.append(hi*100.0)\n",
    "lows  = np.array(lo_list, dtype=float)\n",
    "highs = np.array(hi_list, dtype=float)\n",
    "\n",
    "# Ordnung wie im Niveau-Plot\n",
    "order_idx = df_share[\"share_%\"].sort_values(ascending=True).index\n",
    "# Reindizieren\n",
    "vals  = pd.Series(vals, index=cnt_2025.index).reindex(order_idx).values\n",
    "lows  = pd.Series(lows, index=cnt_2025.index).reindex(order_idx).values\n",
    "highs = pd.Series(highs, index=cnt_2025.index).reindex(order_idx).values\n",
    "\n",
    "# xerr als (links, rechts) – niemals negativ, daher clip auf 0\n",
    "left_err  = np.clip(vals - lows,  0.0, None)\n",
    "right_err = np.clip(highs - vals, 0.0, None)\n",
    "\n",
    "y = np.arange(len(order_idx))\n",
    "fig, ax = plt.subplots(figsize=(10, 6), layout=\"constrained\")\n",
    "bars = ax.barh(order_idx, vals, zorder=1)\n",
    "ax.errorbar(x=vals, y=y, xerr=[left_err, right_err], fmt=\"none\", capsize=3, linewidth=1, zorder=2)\n",
    "label_hbars_right(ax, bars, decimals=1, dx=1.0)\n",
    "\n",
    "ax.set_title(\"Stichprobe 2025: Anteil je Kategorie mit 95%-Konfidenzintervallen (Wilson)\")\n",
    "ax.set_xlabel(\"Anteil in % (mit 95%-KI)\")\n",
    "percent_axis(ax, axis=\"x\", decimals=0, limit=(0, 100), pad_pct=5)\n",
    "ax.set_ylim(-0.5, len(order_idx)-0.5)\n",
    "\n",
    "footer(f\"Konfidenzintervalle: Wilson, z=1.96. N≈{N_resp}. Anteil = Respondenten mit ≥1 Auswahl je Kategorie.\")\n",
    "save_fig(FIG / \"04_sample_2025_niveau_ci.png\")\n",
    "print(\"Exportiert →\", FIG / \"04_sample_2025_niveau_ci.png\")\n"
   ],
   "outputs": [
    {
     "name": "stdout",
     "output_type": "stream",
     "text": [
      "Exportiert → D:\\Q3_2025\\data-analytics\\project\\reports\\figures\\04_sample_2025_niveau_ci.png\n"
     ]
    }
   ],
   "execution_count": 5
  },
  {
   "cell_type": "code",
   "id": "8208156f",
   "metadata": {
    "ExecuteTime": {
     "end_time": "2025-08-31T16:22:33.231743Z",
     "start_time": "2025-08-31T16:22:33.219836Z"
    }
   },
   "source": [
    "\n",
    "# Cell 5: Export-Tabelle (Rohwerte + KI)\n",
    "export = pd.DataFrame({\n",
    "    \"Kategorie\": KANON,\n",
    "    \"cnt_2025\": cnt_2025.reindex(KANON).values,\n",
    "    \"share_%\": df_share.reindex(KANON)[\"share_%\"].values,\n",
    "})\n",
    "# KI erneut (für CSV)\n",
    "def _wilson_row(k):\n",
    "    lo, hi = wilson_ci(float(k), float(N_resp if N_resp else 1.0), z=1.96)\n",
    "    return pd.Series({\"ci_low_%\": lo*100.0, \"ci_high_%\": hi*100.0})\n",
    "export = export.join(export[\"cnt_2025\"].apply(_wilson_row))\n",
    "\n",
    "out_csv = OUT / \"umfrage_2025_reporting_table.csv\"\n",
    "export.to_csv(out_csv, index=False, encoding=\"utf-8\")\n",
    "print(\"Tabelle exportiert →\", out_csv)\n"
   ],
   "outputs": [
    {
     "name": "stdout",
     "output_type": "stream",
     "text": [
      "Tabelle exportiert → D:\\Q3_2025\\data-analytics\\project\\data\\processed\\umfrage_2025_reporting_table.csv\n"
     ]
    }
   ],
   "execution_count": 6
  },
  {
   "cell_type": "code",
   "id": "f9699ceb",
   "metadata": {
    "ExecuteTime": {
     "end_time": "2025-08-31T16:22:33.276825Z",
     "start_time": "2025-08-31T16:22:33.249966Z"
    }
   },
   "source": [
    "\n",
    "# 04_umfrage_reporting — NEW Cell: Q5/Q7 laden\n",
    "import json, numpy as np, pandas as pd, matplotlib.pyplot as plt, matplotlib.ticker as mtick\n",
    "change_long_path = OUT / \"umfrage_2025_change_long.csv\"\n",
    "assert change_long_path.exists(), f\"Fehlt: {change_long_path}. Bitte 04_umfrage_ingest_Q5Q7 ausführen.\"\n",
    "df_change_long = pd.read_csv(change_long_path)\n",
    "meta_path = OUT / \"umfrage_2025_meta.json\"\n",
    "meta = json.loads(meta_path.read_text(encoding=\"utf-8\")) if meta_path.exists() else {}\n",
    "N_total = int(meta.get(\"respondents\", df_change_long.get(\"N_total\", pd.Series([0])).max()))\n",
    "N_q5 = int(meta.get(\"q5_N_answered\", 0)); N_q7 = int(meta.get(\"q7_N_answered\", 0))\n",
    "print(\"N_total =\", N_total, \"| N(Q5 beantwortet) =\", N_q5, \"| N(Q7 beantwortet) =\", N_q7)\n",
    "\n",
    "def _percent_axis(ax, axis=\"x\", decimals=0, limit=(0,100), pad=5):\n",
    "    lo, hi = limit; hi_p = hi + pad\n",
    "    fmt = mtick.PercentFormatter(xmax=100, decimals=decimals)\n",
    "    if axis == \"x\": ax.set_xlim(lo, hi_p); ax.xaxis.set_major_formatter(fmt)\n",
    "    else: ax.set_ylim(lo, hi_p); ax.yaxis.set_major_formatter(fmt)\n",
    "\n",
    "def _label_hbars(ax, bars, dx=1.0, fmt=\"{:.1f}%\"):\n",
    "    for r in bars:\n",
    "        v = r.get_width()\n",
    "        ax.text(v+dx, r.get_y()+r.get_height()/2, fmt.format(v), va=\"center\", ha=\"left\", fontsize=9, clip_on=False)\n",
    "\n",
    "def _footer(fig, text):\n",
    "    fig.text(0.01, -0.04, text, ha=\"left\", va=\"top\", fontsize=9, color=\"#555\")\n"
   ],
   "outputs": [
    {
     "name": "stdout",
     "output_type": "stream",
     "text": [
      "N_total = 39 | N(Q5 beantwortet) = 33 | N(Q7 beantwortet) = 16\n"
     ]
    }
   ],
   "execution_count": 7
  },
  {
   "cell_type": "code",
   "id": "b13faf9f",
   "metadata": {
    "ExecuteTime": {
     "end_time": "2025-08-31T16:22:33.732062Z",
     "start_time": "2025-08-31T16:22:33.299049Z"
    }
   },
   "source": [
    "\n",
    "# Q5 Plot\n",
    "df_q5 = df_change_long.query(\"metric=='more_often'\").set_index(\"Kategorie\").reindex(KANON).reset_index()\n",
    "df_q5[\"share\"] = df_q5[\"more_often_share_resp_%\"].fillna(0.0)\n",
    "order = df_q5.sort_values(\"share\", ascending=True)\n",
    "fig, ax = plt.subplots(figsize=(11,6), constrained_layout=True)\n",
    "bars = ax.barh(order[\"Kategorie\"], order[\"share\"], zorder=2)\n",
    "_label_hbars(ax, bars, dx=1.0)\n",
    "ax.set_title(\"Häufiger online als vor fünf Jahren – Anteil Respondenten (2025)\")\n",
    "ax.set_xlabel(\"Anteil in %\"); _percent_axis(ax, axis=\"x\", limit=(0,100), pad=5)\n",
    "ax.grid(True, linestyle=\":\", alpha=0.3, zorder=0)\n",
    "_footer(fig, f\"Frage Q5. Nenner = alle Respondenten (N={N_total}); N beantwortet = {N_q5}. Quelle: eigene Umfrage 2025.\")\n",
    "plt.savefig(FIG / \"04_q5_more_often.png\", bbox_inches=\"tight\", pad_inches=0.25); plt.close()\n"
   ],
   "outputs": [],
   "execution_count": 8
  },
  {
   "cell_type": "code",
   "id": "bda1e714",
   "metadata": {
    "ExecuteTime": {
     "end_time": "2025-08-31T16:22:34.184217Z",
     "start_time": "2025-08-31T16:22:33.741085Z"
    }
   },
   "source": [
    "\n",
    "# Q7 Plot\n",
    "df_q7 = df_change_long.query(\"metric=='less_often'\").set_index(\"Kategorie\").reindex(KANON).reset_index()\n",
    "df_q7[\"share\"] = df_q7[\"less_often_share_resp_%\"].fillna(0.0)\n",
    "order = df_q7.sort_values(\"share\", ascending=True)\n",
    "fig, ax = plt.subplots(figsize=(11,6), constrained_layout=True)\n",
    "bars = ax.barh(order[\"Kategorie\"], order[\"share\"], color=\"#8888ff\", zorder=2)\n",
    "_label_hbars(ax, bars, dx=1.0)\n",
    "ax.set_title(\"Seltener online als vor fünf Jahren – Anteil Respondenten (2025)\")\n",
    "ax.set_xlabel(\"Anteil in %\"); _percent_axis(ax, axis=\"x\", limit=(0,100), pad=5)\n",
    "ax.grid(True, linestyle=\":\", alpha=0.3, zorder=0)\n",
    "_footer(fig, f\"Frage Q7. Nenner = alle Respondenten (N={N_total}); N beantwortet = {N_q7}. Quelle: eigene Umfrage 2025.\")\n",
    "plt.savefig(FIG / \"04_q7_less_often.png\", bbox_inches=\"tight\", pad_inches=0.25); plt.close()\n"
   ],
   "outputs": [],
   "execution_count": 9
  },
  {
   "cell_type": "code",
   "id": "bf7ee293",
   "metadata": {
    "ExecuteTime": {
     "end_time": "2025-08-31T16:22:34.609856Z",
     "start_time": "2025-08-31T16:22:34.191998Z"
    }
   },
   "source": [
    "\n",
    "# Netto-Delta Plot (pp)\n",
    "df_net = pd.DataFrame({\n",
    "    \"Kategorie\": KANON,\n",
    "    \"more\": df_change_long.query(\"metric=='more_often'\").set_index(\"Kategorie\").reindex(KANON)[\"more_often_share_resp_%\"].values,\n",
    "    \"less\": df_change_long.query(\"metric=='less_often'\").set_index(\"Kategorie\").reindex(KANON)[\"less_often_share_resp_%\"].values,\n",
    "})\n",
    "df_net[\"delta_pp\"] = (df_net[\"more\"] - df_net[\"less\"]).round(1)\n",
    "order = df_net.sort_values(\"delta_pp\", ascending=True)\n",
    "fig, ax = plt.subplots(figsize=(11,6), constrained_layout=True)\n",
    "colors = [\"#31c48d\" if v>=0 else \"#ef4444\" for v in order[\"delta_pp\"]]\n",
    "bars = ax.barh(order[\"Kategorie\"], order[\"delta_pp\"], color=colors, zorder=2)\n",
    "for r in bars:\n",
    "    v = r.get_width()\n",
    "    ax.text(v + (0.6 if v>=0 else -0.6), r.get_y()+r.get_height()/2, f\"{v:+.1f} pp\",\n",
    "            va=\"center\", ha=\"left\" if v>=0 else \"right\", fontsize=9, clip_on=False)\n",
    "m = max(abs(order[\"delta_pp\"].min()), abs(order[\"delta_pp\"].max()))\n",
    "ax.set_xlim(-m*1.25, m*1.25)\n",
    "ax.set_title(\"Netto-Verschiebung: Häufiger minus Seltener (Prozentpunkte, 2025)\")\n",
    "ax.set_xlabel(\"Δ in Prozentpunkten (pp)\"); ax.grid(True, linestyle=\":\", alpha=0.3, zorder=0)\n",
    "_footer(fig, f\"Nenner = alle Respondenten (N={N_total}). Positive Werte: häufiger > seltener.\")\n",
    "plt.savefig(FIG / \"04_q5q7_netto_delta.png\", bbox_inches=\"tight\", pad_inches=0.25); plt.close()\n"
   ],
   "outputs": [],
   "execution_count": 10
  }
 ],
 "metadata": {
  "kernelspec": {
   "name": "conda-base-py",
   "language": "python",
   "display_name": "Python [conda env:base] *"
  }
 },
 "nbformat": 4,
 "nbformat_minor": 5
}
