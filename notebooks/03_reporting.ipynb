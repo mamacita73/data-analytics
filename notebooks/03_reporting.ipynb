{
 "cells": [
  {
   "cell_type": "markdown",
   "id": "df7352d3",
   "metadata": {},
   "source": [
    "\n",
    "# 03 · Reporting\n",
    "\n",
    "Dieses Notebook erzeugt **nachvollziehbare, wissenschaftlich korrekte** Abbildungen:\n",
    "- Niveau-Plots je Jahr mit **Prozentwerten an jedem Balken**\n",
    "- Gruppenbalken 2021/2022/2024\n",
    "- **Δ in Prozentpunkten (pp)** 2021→2024 als horizontales Ranking\n",
    "- Dumbbell-Plot 2021→2024\n",
    "- Auswertung **Bedarfsgüter vs. Luxusgüter** (anpassbare Einteilung)\n",
    "\n",
    "Außerdem wird ein **Kurzbefund** als Textdatei exportiert.\n"
   ]
  },
  {
   "cell_type": "code",
   "id": "17fccd31",
   "metadata": {
    "ExecuteTime": {
     "end_time": "2025-08-31T11:06:13.873701Z",
     "start_time": "2025-08-31T11:06:13.852540Z"
    }
   },
   "source": [
    "\n",
    "# 03_reporting — Cell 1: Setup & Daten laden\n",
    "from __future__ import annotations\n",
    "\n",
    "from pathlib import Path\n",
    "import json, numpy as np\n",
    "import pandas as pd\n",
    "import matplotlib.pyplot as plt\n",
    "import matplotlib.ticker as mtick\n",
    "\n",
    "BASE = Path.cwd().resolve().parents[0] if Path.cwd().name.lower()==\"notebooks\" else Path.cwd()\n",
    "OUT  = BASE / \"data\" / \"processed\"\n",
    "FIG  = BASE / \"reports\" / \"figures\"\n",
    "FIG.mkdir(parents=True, exist_ok=True)\n",
    "\n",
    "CONFIG = json.loads((OUT / \"project_config.json\").read_text(encoding=\"utf-8\"))\n",
    "KANON  = CONFIG[\"kanon\"]\n",
    "\n",
    "WIDE_PATH = OUT / \"statista_harmonisiert_2021_2022_2024.csv\"\n",
    "LONG_PATH = OUT / \"statista_long_2021_2022_2024.csv\"\n",
    "\n",
    "stat_pivot = pd.read_csv(WIDE_PATH).set_index(\"Kategorie\").reindex(KANON).fillna(0.0)\n",
    "stat_all   = pd.read_csv(LONG_PATH)\n",
    "\n",
    "YEARS = sorted([int(c) for c in stat_pivot.columns if str(c).isdigit()])\n",
    "print(\"Geladene Jahre:\", YEARS)\n",
    "display(stat_pivot.head(7))\n"
   ],
   "outputs": [
    {
     "name": "stdout",
     "output_type": "stream",
     "text": [
      "Geladene Jahre: [2021, 2022, 2024]\n"
     ]
    },
    {
     "data": {
      "text/plain": [
       "                                                 2021   2022   2024\n",
       "Kategorie                                                          \n",
       "Kleidung / Schuhe                                57.0   78.0  106.0\n",
       "Elektronik (z. B. Smartphones, Haushaltsgeräte)  38.0  145.0   38.0\n",
       "Lebensmittel / Getränke                          33.0   28.0   16.0\n",
       "Bücher / Medien / Software                        0.0   92.0   25.0\n",
       "Medikamente / Drogerieartikel                    78.0   92.0   51.0\n",
       "Hobby- & Freizeitartikel                         83.0   71.0   57.0\n",
       "Möbel / Wohnaccessoires                          38.0   32.0   15.0"
      ],
      "text/html": [
       "<div>\n",
       "<style scoped>\n",
       "    .dataframe tbody tr th:only-of-type {\n",
       "        vertical-align: middle;\n",
       "    }\n",
       "\n",
       "    .dataframe tbody tr th {\n",
       "        vertical-align: top;\n",
       "    }\n",
       "\n",
       "    .dataframe thead th {\n",
       "        text-align: right;\n",
       "    }\n",
       "</style>\n",
       "<table border=\"1\" class=\"dataframe\">\n",
       "  <thead>\n",
       "    <tr style=\"text-align: right;\">\n",
       "      <th></th>\n",
       "      <th>2021</th>\n",
       "      <th>2022</th>\n",
       "      <th>2024</th>\n",
       "    </tr>\n",
       "    <tr>\n",
       "      <th>Kategorie</th>\n",
       "      <th></th>\n",
       "      <th></th>\n",
       "      <th></th>\n",
       "    </tr>\n",
       "  </thead>\n",
       "  <tbody>\n",
       "    <tr>\n",
       "      <th>Kleidung / Schuhe</th>\n",
       "      <td>57.0</td>\n",
       "      <td>78.0</td>\n",
       "      <td>106.0</td>\n",
       "    </tr>\n",
       "    <tr>\n",
       "      <th>Elektronik (z. B. Smartphones, Haushaltsgeräte)</th>\n",
       "      <td>38.0</td>\n",
       "      <td>145.0</td>\n",
       "      <td>38.0</td>\n",
       "    </tr>\n",
       "    <tr>\n",
       "      <th>Lebensmittel / Getränke</th>\n",
       "      <td>33.0</td>\n",
       "      <td>28.0</td>\n",
       "      <td>16.0</td>\n",
       "    </tr>\n",
       "    <tr>\n",
       "      <th>Bücher / Medien / Software</th>\n",
       "      <td>0.0</td>\n",
       "      <td>92.0</td>\n",
       "      <td>25.0</td>\n",
       "    </tr>\n",
       "    <tr>\n",
       "      <th>Medikamente / Drogerieartikel</th>\n",
       "      <td>78.0</td>\n",
       "      <td>92.0</td>\n",
       "      <td>51.0</td>\n",
       "    </tr>\n",
       "    <tr>\n",
       "      <th>Hobby- &amp; Freizeitartikel</th>\n",
       "      <td>83.0</td>\n",
       "      <td>71.0</td>\n",
       "      <td>57.0</td>\n",
       "    </tr>\n",
       "    <tr>\n",
       "      <th>Möbel / Wohnaccessoires</th>\n",
       "      <td>38.0</td>\n",
       "      <td>32.0</td>\n",
       "      <td>15.0</td>\n",
       "    </tr>\n",
       "  </tbody>\n",
       "</table>\n",
       "</div>"
      ]
     },
     "metadata": {},
     "output_type": "display_data"
    }
   ],
   "execution_count": 28
  },
  {
   "metadata": {
    "ExecuteTime": {
     "end_time": "2025-08-31T11:06:13.891418Z",
     "start_time": "2025-08-31T11:06:13.883850Z"
    }
   },
   "cell_type": "code",
   "source": [
    "# Spaltennamen robust in ints umwandeln (z.B. \"2021\", \" 2021 \", \"2021.0\" -> 2021)\n",
    "def _to_int_if_year(c):\n",
    "    s = str(c).strip()\n",
    "    if s.endswith(\".0\") and s[:-2].isdigit():\n",
    "        s = s[:-2]\n",
    "    return int(s) if s.isdigit() else s\n",
    "\n",
    "stat_pivot.columns = [ _to_int_if_year(c) for c in stat_pivot.columns ]\n",
    "YEARS = sorted([c for c in stat_pivot.columns if isinstance(c, int)])\n",
    "print(\"YEARS (int):\", YEARS)\n"
   ],
   "id": "b8fa707008271551",
   "outputs": [
    {
     "name": "stdout",
     "output_type": "stream",
     "text": [
      "YEARS (int): [2021, 2022, 2024]\n"
     ]
    }
   ],
   "execution_count": 29
  },
  {
   "cell_type": "code",
   "id": "f48830e5",
   "metadata": {
    "ExecuteTime": {
     "end_time": "2025-08-31T11:06:13.914907Z",
     "start_time": "2025-08-31T11:06:13.907629Z"
    }
   },
   "source": [
    "# Einheitlicher Stil + robustes Layout\n",
    "import matplotlib.pyplot as plt\n",
    "import matplotlib.ticker as mtick\n",
    "\n",
    "plt.rcParams.update({\n",
    "    \"figure.dpi\": 120,\n",
    "    \"savefig.dpi\": 300,\n",
    "    \"font.size\": 11,\n",
    "    \"axes.titlesize\": 12,\n",
    "    \"axes.labelsize\": 11,\n",
    "    \"axes.grid\": True,\n",
    "    \"grid.alpha\": 0.2,\n",
    "    \"axes.spines.top\": False,\n",
    "    \"axes.spines.right\": False,\n",
    "    # Empfehlung: kein autolayout, wir nutzen constrained_layout gezielt pro Figure\n",
    "    \"figure.autolayout\": False,\n",
    "})\n",
    "\n",
    "def percent_axis(ax, axis=\"y\", decimals=0, limit=(0, 100), pad_pct=0):\n",
    "    \"\"\"\n",
    "    Prozent-Achse 0–100 % mit optionaler rechter/linker Padding-Reserve (pad_pct in %-Punkten),\n",
    "    damit äußere Labels nicht abgeschnitten werden.\n",
    "    \"\"\"\n",
    "    lo, hi = limit\n",
    "    hi_padded = hi + float(pad_pct)\n",
    "    fmt = mtick.PercentFormatter(xmax=100, decimals=decimals)\n",
    "    if axis == \"y\":\n",
    "        ax.set_ylim(lo, hi_padded)\n",
    "        ax.yaxis.set_major_formatter(fmt)\n",
    "    else:\n",
    "        ax.set_xlim(lo, hi_padded)\n",
    "        ax.xaxis.set_major_formatter(fmt)\n",
    "\n",
    "def label_bars(ax, decimals=1, rotate=0, inside=False):\n",
    "    \"\"\"\n",
    "    Beschriftet Balken. inside=True platziert Werte IN den Balken (vermeidet Abschneiden).\n",
    "    \"\"\"\n",
    "    fmt = f\"%.{decimals}f %%\"\n",
    "    for c in ax.containers:\n",
    "        if inside:\n",
    "            ax.bar_label(c, fmt=fmt, padding=2, fontsize=8, rotation=rotate, label_type=\"center\")\n",
    "        else:\n",
    "            ax.bar_label(c, fmt=fmt, padding=2, fontsize=8, rotation=rotate)\n",
    "\n",
    "def label_hbars_right(ax, bars, decimals=1, dx=1.0):\n",
    "    \"\"\"\n",
    "    Beschriftet H-Balken RECHTS außerhalb, mit kleiner Reserve dx (in %-Punkten).\n",
    "    Setzt clip_on=False, damit nichts „hart“ an der Achse abgeschnitten wird.\n",
    "    \"\"\"\n",
    "    for rect in bars:\n",
    "        v = rect.get_width()\n",
    "        ax.text(v + dx, rect.get_y() + rect.get_height()/2,\n",
    "                f\"{v:.{decimals}f} %\", va=\"center\", ha=\"left\", fontsize=9, clip_on=False)\n",
    "\n",
    "def footer(note: str):\n",
    "    # Fußnote leicht nach unten, wird durch bbox_inches='tight' mitgenommen\n",
    "    plt.figtext(0.01, -0.04, note, ha=\"left\", va=\"top\", fontsize=9)\n",
    "\n",
    "def save_fig(path):\n",
    "    # 'tight' + pad verhindert Abschneiden (Legende, lange Labels)\n",
    "    plt.savefig(path, bbox_inches=\"tight\", pad_inches=0.25, facecolor=\"white\")\n",
    "    plt.close()\n"
   ],
   "outputs": [],
   "execution_count": 30
  },
  {
   "cell_type": "code",
   "id": "122b3839",
   "metadata": {
    "ExecuteTime": {
     "end_time": "2025-08-31T11:06:14.861432Z",
     "start_time": "2025-08-31T11:06:13.924694Z"
    }
   },
   "source": [
    "\n",
    "# 03_reporting — Cell 3: Niveau-Plots je Jahr (mit Prozentlabels)\n",
    "for yr in YEARS:\n",
    "    values = stat_pivot[yr].sort_values(ascending=True)\n",
    "    fig, ax = plt.subplots(figsize=(12, 6), layout=\"constrained\")\n",
    "# KEIN plt.tight_layout() zusätzlich! (beides zusammen kann stören)\n",
    "    bars = ax.barh(values.index, values.values)\n",
    "    for rect, v in zip(bars, values.values):\n",
    "        ax.text(rect.get_width() + 1.0, rect.get_y() + rect.get_height()/2,\n",
    "                f\"{v:.1f} %\", va=\"center\", fontsize=9)\n",
    "    ax.set_title(f\"Online-Kaufanteile nach Produktkategorien – {yr}\")\n",
    "    ax.set_xlabel(\"Anteil in %\")\n",
    "    percent_axis(ax, axis=\"x\", decimals=0, limit=(0, 100))\n",
    "    plt.tight_layout()\n",
    "    footer(f\"Quelle: Statista ({yr}). Einheit: Prozent. Hinweis: Harmonisierung gemäß Mapping; Teilkategorien konsolidiert.\")\n",
    "    save_fig(FIG / f\"03_{yr}_niveau.png\")\n",
    "print(\"Niveauabbildungen exportiert →\", FIG)\n"
   ],
   "outputs": [
    {
     "name": "stderr",
     "output_type": "stream",
     "text": [
      "C:\\Users\\admin\\AppData\\Local\\Temp\\ipykernel_26376\\335776326.py:13: UserWarning: The figure layout has changed to tight\n",
      "  plt.tight_layout()\n"
     ]
    },
    {
     "name": "stdout",
     "output_type": "stream",
     "text": [
      "Niveauabbildungen exportiert → D:\\Q3_2025\\data-analytics\\project\\reports\\figures\n"
     ]
    }
   ],
   "execution_count": 31
  },
  {
   "cell_type": "code",
   "id": "4d857bae",
   "metadata": {
    "ExecuteTime": {
     "end_time": "2025-08-31T15:01:10.366366Z",
     "start_time": "2025-08-31T15:01:09.815776Z"
    }
   },
   "source": [
    "# 03_reporting — Cell 4: Gruppenbalken (2021/2022/2024) inkl. Prozentlabels — FIX\n",
    "import numpy as np\n",
    "fig, ax = plt.subplots(figsize=(13, 6), constrained_layout=True)   # nur EINE Layout-Engine\n",
    "\n",
    "# Plot\n",
    "(stat_pivot[YEARS].plot(kind=\"bar\", ax=ax, width=0.8, zorder=2))\n",
    "\n",
    "# --- Headroom für Labels oberhalb der Balken ---\n",
    "ymax = float(np.nanmax(stat_pivot[YEARS].values))\n",
    "ax.set_ylim(0, max(100, ymax * 1.18))   # 18% Luft; aber min 100%, falls Achse auf 0–100 soll\n",
    "\n",
    "# Prozentlabels (achte darauf, dass deine label_bars nicht 'clip_on' erzwungen auf True setzt)\n",
    "label_bars(ax, decimals=1, rotate=0)  # Labels bleiben horizontal lesbar; kein Rotate nötig\n",
    "\n",
    "# Achsen/Beschriftungen\n",
    "ax.set_title(\"Online-Kaufanteile nach Kategorien – Vergleich 2021 / 2022 / 2024\")\n",
    "ax.set_xlabel(\"Kategorie\")\n",
    "ax.set_ylabel(\"Anteil in %\")\n",
    "percent_axis(ax, axis=\"y\", decimals=0, limit=(0, 150))\n",
    "\n",
    "# xtick-Labels: leicht rotieren und rechts ausrichten\n",
    "plt.xticks(rotation=28, ha=\"right\")\n",
    "\n",
    "# Legende oberhalb, kollisionsfrei außerhalb\n",
    "ax.legend(\n",
    "    title=\"Jahr\",\n",
    "    ncols=len(YEARS),\n",
    "    frameon=False,\n",
    "    loc=\"lower center\",\n",
    "    bbox_to_anchor=(0.5, 1.02)\n",
    ")\n",
    "\n",
    "# KEIN plt.tight_layout() hier!\n",
    "# Fußnote außerhalb der Achse; footer sollte intern fig.text(...) verwenden\n",
    "def footer(text, fig=None, y=-0.04):\n",
    "    \"\"\"Fußnote außerhalb der Achsen – kollisionsfrei mit constrained_layout.\"\"\"\n",
    "    import matplotlib.pyplot as plt\n",
    "    if fig is None:\n",
    "        fig = plt.gcf()\n",
    "    fig.text(0.01, y, text, ha=\"left\", va=\"top\", fontsize=9, color=\"#555\")\n",
    "\n",
    "footer(\"Quelle: Statista (2021–2024, ohne 2023). Einheit: Prozent. Hinweis: Harmonisierung gemäß Mapping; Teilkategorien konsolidiert.\",\n",
    "       fig=fig)\n",
    "\n",
    "save_fig(FIG / \"03_vergleich_2021_2022_2024.png\")\n"
   ],
   "outputs": [],
   "execution_count": 43
  },
  {
   "cell_type": "code",
   "id": "62476642",
   "metadata": {
    "ExecuteTime": {
     "end_time": "2025-08-31T15:05:56.649393Z",
     "start_time": "2025-08-31T15:05:56.616497Z"
    }
   },
   "source": [
    "\n",
    "# 03_reporting — Cell 5: Δ in Prozentpunkten (pp)\n",
    "delta = pd.DataFrame(index=stat_pivot.index)\n",
    "if set([2021,2022,2024]).issubset(stat_pivot.columns):\n",
    "    delta[\"Δ 2021→2022\"] = stat_pivot[2022] - stat_pivot[2021]\n",
    "    delta[\"Δ 2022→2024\"] = stat_pivot[2024] - stat_pivot[2022]\n",
    "    delta[\"Δ 2021→2024\"] = stat_pivot[2024] - stat_pivot[2021]\n",
    "else:\n",
    "    # Fallback, falls Jahre fehlen\n",
    "    years_sorted = sorted([int(c) for c in stat_pivot.columns])\n",
    "    delta[f\"Δ {years_sorted[0]}→{years_sorted[-1]}\"] = stat_pivot[years_sorted[-1]] - stat_pivot[years_sorted[0]]\n",
    "delta = delta.sort_values(delta.columns[-1], ascending=False)\n",
    "\n",
    "display(delta.style.format(\"{:.1f}\"))\n",
    "\n",
    "DELTA_PATH = OUT / \"statista_delta_2021_2022_2024.csv\"\n",
    "delta.to_csv(DELTA_PATH, encoding=\"utf-8\")\n",
    "print(\"Delta-Tabelle exportiert →\", DELTA_PATH)\n"
   ],
   "outputs": [
    {
     "data": {
      "text/plain": [
       "<pandas.io.formats.style.Styler at 0x2c15ee51310>"
      ],
      "text/html": [
       "<style type=\"text/css\">\n",
       "</style>\n",
       "<table id=\"T_b4931\">\n",
       "  <thead>\n",
       "    <tr>\n",
       "      <th class=\"blank level0\" >&nbsp;</th>\n",
       "      <th id=\"T_b4931_level0_col0\" class=\"col_heading level0 col0\" >Δ 2021→2022</th>\n",
       "      <th id=\"T_b4931_level0_col1\" class=\"col_heading level0 col1\" >Δ 2022→2024</th>\n",
       "      <th id=\"T_b4931_level0_col2\" class=\"col_heading level0 col2\" >Δ 2021→2024</th>\n",
       "    </tr>\n",
       "    <tr>\n",
       "      <th class=\"index_name level0\" >Kategorie</th>\n",
       "      <th class=\"blank col0\" >&nbsp;</th>\n",
       "      <th class=\"blank col1\" >&nbsp;</th>\n",
       "      <th class=\"blank col2\" >&nbsp;</th>\n",
       "    </tr>\n",
       "  </thead>\n",
       "  <tbody>\n",
       "    <tr>\n",
       "      <th id=\"T_b4931_level0_row0\" class=\"row_heading level0 row0\" >Kleidung / Schuhe</th>\n",
       "      <td id=\"T_b4931_row0_col0\" class=\"data row0 col0\" >21.0</td>\n",
       "      <td id=\"T_b4931_row0_col1\" class=\"data row0 col1\" >28.0</td>\n",
       "      <td id=\"T_b4931_row0_col2\" class=\"data row0 col2\" >49.0</td>\n",
       "    </tr>\n",
       "    <tr>\n",
       "      <th id=\"T_b4931_level0_row1\" class=\"row_heading level0 row1\" >Bücher / Medien / Software</th>\n",
       "      <td id=\"T_b4931_row1_col0\" class=\"data row1 col0\" >92.0</td>\n",
       "      <td id=\"T_b4931_row1_col1\" class=\"data row1 col1\" >-67.0</td>\n",
       "      <td id=\"T_b4931_row1_col2\" class=\"data row1 col2\" >25.0</td>\n",
       "    </tr>\n",
       "    <tr>\n",
       "      <th id=\"T_b4931_level0_row2\" class=\"row_heading level0 row2\" >Elektronik (z. B. Smartphones, Haushaltsgeräte)</th>\n",
       "      <td id=\"T_b4931_row2_col0\" class=\"data row2 col0\" >107.0</td>\n",
       "      <td id=\"T_b4931_row2_col1\" class=\"data row2 col1\" >-107.0</td>\n",
       "      <td id=\"T_b4931_row2_col2\" class=\"data row2 col2\" >0.0</td>\n",
       "    </tr>\n",
       "    <tr>\n",
       "      <th id=\"T_b4931_level0_row3\" class=\"row_heading level0 row3\" >Lebensmittel / Getränke</th>\n",
       "      <td id=\"T_b4931_row3_col0\" class=\"data row3 col0\" >-5.0</td>\n",
       "      <td id=\"T_b4931_row3_col1\" class=\"data row3 col1\" >-12.0</td>\n",
       "      <td id=\"T_b4931_row3_col2\" class=\"data row3 col2\" >-17.0</td>\n",
       "    </tr>\n",
       "    <tr>\n",
       "      <th id=\"T_b4931_level0_row4\" class=\"row_heading level0 row4\" >Möbel / Wohnaccessoires</th>\n",
       "      <td id=\"T_b4931_row4_col0\" class=\"data row4 col0\" >-6.0</td>\n",
       "      <td id=\"T_b4931_row4_col1\" class=\"data row4 col1\" >-17.0</td>\n",
       "      <td id=\"T_b4931_row4_col2\" class=\"data row4 col2\" >-23.0</td>\n",
       "    </tr>\n",
       "    <tr>\n",
       "      <th id=\"T_b4931_level0_row5\" class=\"row_heading level0 row5\" >Hobby- & Freizeitartikel</th>\n",
       "      <td id=\"T_b4931_row5_col0\" class=\"data row5 col0\" >-12.0</td>\n",
       "      <td id=\"T_b4931_row5_col1\" class=\"data row5 col1\" >-14.0</td>\n",
       "      <td id=\"T_b4931_row5_col2\" class=\"data row5 col2\" >-26.0</td>\n",
       "    </tr>\n",
       "    <tr>\n",
       "      <th id=\"T_b4931_level0_row6\" class=\"row_heading level0 row6\" >Medikamente / Drogerieartikel</th>\n",
       "      <td id=\"T_b4931_row6_col0\" class=\"data row6 col0\" >14.0</td>\n",
       "      <td id=\"T_b4931_row6_col1\" class=\"data row6 col1\" >-41.0</td>\n",
       "      <td id=\"T_b4931_row6_col2\" class=\"data row6 col2\" >-27.0</td>\n",
       "    </tr>\n",
       "  </tbody>\n",
       "</table>\n"
      ]
     },
     "metadata": {},
     "output_type": "display_data"
    },
    {
     "name": "stdout",
     "output_type": "stream",
     "text": [
      "Delta-Tabelle exportiert → D:\\Q3_2025\\data-analytics\\project\\data\\processed\\statista_delta_2021_2022_2024.csv\n"
     ]
    }
   ],
   "execution_count": 46
  },
  {
   "cell_type": "code",
   "id": "628093bc",
   "metadata": {
    "ExecuteTime": {
     "end_time": "2025-08-31T15:06:48.232015Z",
     "start_time": "2025-08-31T15:06:47.848915Z"
    }
   },
   "source": [
    "# 03_reporting — Cell 6: Balken (pp) mit Vorzeichen, symmetrische Skala\n",
    "col = delta.columns[-1]           # z.B. \"Δ 2021→2024\"\n",
    "order = delta.index               # Reihenfolge wie zuvor sortiert\n",
    "vals = delta[col].reindex(order)  # Serie mit Deltas\n",
    "\n",
    "fig, ax = plt.subplots(figsize=(12, 6), layout=\"constrained\")  # kein tight_layout zusätzlich!\n",
    "bars = ax.barh(order, vals.values, color=[\"#4d8\" if v >= 0 else \"#d66\" for v in vals.values])\n",
    "\n",
    "# Labels mit Vorzeichen, minimaler Versatz; clip_on=False verhindert hartes Abschneiden\n",
    "for rect, v in zip(bars, vals.values):\n",
    "    ax.text(\n",
    "        v + (0.5 if v >= 0 else -0.5),\n",
    "        rect.get_y() + rect.get_height()/2,\n",
    "        f\"{v:+.1f} pp\",\n",
    "        va=\"center\",\n",
    "        ha=\"left\" if v >= 0 else \"right\",\n",
    "        fontsize=9,\n",
    "        clip_on=False,\n",
    "    )\n",
    "\n",
    "ax.set_title(f\"Veränderung der Online-Kaufanteile ({col.split('Δ')[-1].strip()})\")\n",
    "ax.set_xlabel(\"Δ in Prozentpunkten (pp)\")\n",
    "left  = min(-10, float(vals.min()) - 23)\n",
    "right = max( 10, float(vals.max()) + 1)\n",
    "ax.set_xlim(left, right)\n",
    "ax.axvline(0, color=\"grey\", linewidth=1, zorder=0)\n",
    "\n",
    "footer(\"Anmerkung: Δ in Prozentpunkten (pp). Positiv = Wachstum, Negativ = Rückgang. Quelle: Statista.\")\n",
    "save_fig(FIG / \"03_delta_ranking.png\")\n"
   ],
   "outputs": [],
   "execution_count": 48
  },
  {
   "cell_type": "code",
   "id": "a906a28f",
   "metadata": {
    "ExecuteTime": {
     "end_time": "2025-08-31T11:06:16.205272Z",
     "start_time": "2025-08-31T11:06:15.860171Z"
    }
   },
   "source": [
    "# 03_reporting — Cell 7: Dumbbell 2021→2024\n",
    "import numpy as np\n",
    "\n",
    "if {2021, 2024}.issubset(set(stat_pivot.columns)):\n",
    "    order = delta.index  # gleiche Reihenfolge wie im Δ-Ranking\n",
    "    y = np.arange(len(order))\n",
    "\n",
    "    fig, ax = plt.subplots(figsize=(12, 6), layout=\"constrained\")  # <- INSIDE dem if-Block!\n",
    "    x1 = stat_pivot.loc[order, 2021].values\n",
    "    x3 = stat_pivot.loc[order, 2024].values\n",
    "\n",
    "    for yi, a, b in zip(y, x1, x3):\n",
    "        ax.plot([a, b], [yi, yi], marker=\"o\")\n",
    "\n",
    "    ax.set_yticks(y)\n",
    "    ax.set_yticklabels(order)\n",
    "    ax.set_title(\"Entwicklung 2021→2024 je Kategorie (Dumbbell)\")\n",
    "    ax.set_xlabel(\"Anteil in %\")\n",
    "    percent_axis(ax, axis=\"x\", decimals=0, limit=(0, 100), pad_pct=5)  # 5 pp Luft rechts\n",
    "\n",
    "    footer(\"Quelle: Statista (2021, 2024). Einheit: Prozent. Hinweis: 2022 im Diagramm nicht dargestellt; siehe Gruppenbalken.\")\n",
    "    save_fig(FIG / \"03_dumbbell_2021_2024.png\")\n",
    "else:\n",
    "    print(\"Dumbbell-Plot übersprungen: Jahre 2021/2024 nicht vollständig vorhanden.\")\n"
   ],
   "outputs": [],
   "execution_count": 35
  },
  {
   "cell_type": "code",
   "id": "32c8ee66",
   "metadata": {
    "ExecuteTime": {
     "end_time": "2025-08-31T15:29:12.804509Z",
     "start_time": "2025-08-31T15:29:12.330430Z"
    }
   },
   "source": [
    "# 03_reporting — Cell 8: Bedarfsgüter vs. Luxusgüter (absolute Entwicklung 2021/2022/2024)\n",
    "\n",
    "NEEDS = {\"Lebensmittel / Getränke\", \"Medikamente / Drogerieartikel\"}\n",
    "LUXURY = {\n",
    "    \"Kleidung / Schuhe\",\n",
    "    \"Elektronik (z. B. Smartphones, Haushaltsgeräte)\",\n",
    "    \"Bücher / Medien / Software\",\n",
    "    \"Hobby- & Freizeitartikel\",\n",
    "    \"Möbel / Wohnaccessoires\",\n",
    "}\n",
    "\n",
    "unknown = set(KANON) - NEEDS - LUXURY\n",
    "if unknown:\n",
    "    print(\"Hinweis: nicht zugeordnet (werden ignoriert):\", unknown)\n",
    "\n",
    "def group_share(df_wide: pd.DataFrame, group: set[str]) -> pd.Series:\n",
    "    common = [c for c in df_wide.index if c in group]\n",
    "    # Summe über die in YEARS verfügbaren Spalten (Werte in %)\n",
    "    return df_wide.loc[common, YEARS].sum()\n",
    "\n",
    "needs_share = group_share(stat_pivot, NEEDS)\n",
    "lux_share   = group_share(stat_pivot, LUXURY)\n",
    "\n",
    "need_lux_df = pd.DataFrame(\n",
    "    {\"Bedarfsgüter\": needs_share, \"Luxusgüter\": lux_share},\n",
    "    index=YEARS\n",
    ").sort_index()\n",
    "display(need_lux_df)\n",
    "\n",
    "# ---------- Plot: absolute Entwicklung als Zeitreihe ----------\n",
    "fig, ax = plt.subplots(figsize=(12, 6), constrained_layout=True)\n",
    "\n",
    "# Linien (alle drei Jahre) mit Markern\n",
    "ax.plot(need_lux_df.index, need_lux_df[\"Bedarfsgüter\"], marker=\"o\", linewidth=2, label=\"Bedarfsgüter\", zorder=3)\n",
    "ax.plot(need_lux_df.index, need_lux_df[\"Luxusgüter\"],   marker=\"o\", linewidth=2, label=\"Luxusgüter\",   zorder=3)\n",
    "\n",
    "# Prozentlabels an die Punkte (mit Headroom, ohne Überlappung)\n",
    "ymax = float(np.nanmax(need_lux_df.values))\n",
    "for x, y in zip(need_lux_df.index, need_lux_df[\"Bedarfsgüter\"].values):\n",
    "    ax.text(x, y + max(1, ymax*0.02), f\"{y:.1f}%\", ha=\"center\", va=\"bottom\", fontsize=9, clip_on=False)\n",
    "for x, y in zip(need_lux_df.index, need_lux_df[\"Luxusgüter\"].values):\n",
    "    ax.text(x, y + max(1, ymax*0.02), f\"{y:.1f}%\", ha=\"center\", va=\"bottom\", fontsize=9, clip_on=False)\n",
    "\n",
    "# Achsen, Raster, Legende\n",
    "ax.set_title(\"Anteile Bedarfsgüter vs. Luxusgüter – absolute Entwicklung (2021 / 2022 / 2024)\")\n",
    "ax.set_xlabel(\"Jahr\")\n",
    "ax.set_ylabel(\"Anteil in %\")\n",
    "percent_axis(ax, axis=\"y\", decimals=0, limit=(0, max(100, ymax*1.15)))  # 0–100 oder mit Headroom\n",
    "ax.set_xticks(need_lux_df.index)\n",
    "ax.grid(True, linestyle=\":\", alpha=0.3)\n",
    "ax.legend(frameon=False, ncols=2, loc=\"lower center\", bbox_to_anchor=(0.5, 1.02))\n",
    "\n",
    "# Fußnote außerhalb der Achse\n",
    "fig.text(0.01, -0.04,\n",
    "         \"Summen über Kategorien (Mehrfachnennungen möglich) – keine 100%-Verteilung pro Jahr. Quelle: Statista (2021, 2022, 2024).\",\n",
    "         ha=\"left\", va=\"top\", fontsize=9, color=\"#555\")\n",
    "\n",
    "save_fig(FIG / \"03_needs_vs_luxury_lines_absolute.png\")\n",
    "\n",
    "# Δ-Tabelle (wie bisher)\n",
    "shift_df = pd.DataFrame({\n",
    "    \"Δ Bedarf (2021→2024)\": [needs_share.get(2024, float(\"nan\")) - needs_share.get(2021, float(\"nan\"))],\n",
    "    \"Δ Luxus (2021→2024)\":  [lux_share.get(2024, float(\"nan\"))  - lux_share.get(2021, float(\"nan\"))]\n",
    "})\n",
    "display(shift_df.style.format(\"{:+.1f} pp\"))\n",
    "\n"
   ],
   "outputs": [
    {
     "data": {
      "text/plain": [
       "      Bedarfsgüter  Luxusgüter\n",
       "2021         111.0       216.0\n",
       "2022         120.0       418.0\n",
       "2024          67.0       241.0"
      ],
      "text/html": [
       "<div>\n",
       "<style scoped>\n",
       "    .dataframe tbody tr th:only-of-type {\n",
       "        vertical-align: middle;\n",
       "    }\n",
       "\n",
       "    .dataframe tbody tr th {\n",
       "        vertical-align: top;\n",
       "    }\n",
       "\n",
       "    .dataframe thead th {\n",
       "        text-align: right;\n",
       "    }\n",
       "</style>\n",
       "<table border=\"1\" class=\"dataframe\">\n",
       "  <thead>\n",
       "    <tr style=\"text-align: right;\">\n",
       "      <th></th>\n",
       "      <th>Bedarfsgüter</th>\n",
       "      <th>Luxusgüter</th>\n",
       "    </tr>\n",
       "  </thead>\n",
       "  <tbody>\n",
       "    <tr>\n",
       "      <th>2021</th>\n",
       "      <td>111.0</td>\n",
       "      <td>216.0</td>\n",
       "    </tr>\n",
       "    <tr>\n",
       "      <th>2022</th>\n",
       "      <td>120.0</td>\n",
       "      <td>418.0</td>\n",
       "    </tr>\n",
       "    <tr>\n",
       "      <th>2024</th>\n",
       "      <td>67.0</td>\n",
       "      <td>241.0</td>\n",
       "    </tr>\n",
       "  </tbody>\n",
       "</table>\n",
       "</div>"
      ]
     },
     "metadata": {},
     "output_type": "display_data"
    },
    {
     "data": {
      "text/plain": [
       "<pandas.io.formats.style.Styler at 0x2c15ec6a5d0>"
      ],
      "text/html": [
       "<style type=\"text/css\">\n",
       "</style>\n",
       "<table id=\"T_1aa8e\">\n",
       "  <thead>\n",
       "    <tr>\n",
       "      <th class=\"blank level0\" >&nbsp;</th>\n",
       "      <th id=\"T_1aa8e_level0_col0\" class=\"col_heading level0 col0\" >Δ Bedarf (2021→2024)</th>\n",
       "      <th id=\"T_1aa8e_level0_col1\" class=\"col_heading level0 col1\" >Δ Luxus (2021→2024)</th>\n",
       "    </tr>\n",
       "  </thead>\n",
       "  <tbody>\n",
       "    <tr>\n",
       "      <th id=\"T_1aa8e_level0_row0\" class=\"row_heading level0 row0\" >0</th>\n",
       "      <td id=\"T_1aa8e_row0_col0\" class=\"data row0 col0\" >-44.0 pp</td>\n",
       "      <td id=\"T_1aa8e_row0_col1\" class=\"data row0 col1\" >+25.0 pp</td>\n",
       "    </tr>\n",
       "  </tbody>\n",
       "</table>\n"
      ]
     },
     "metadata": {},
     "output_type": "display_data"
    }
   ],
   "execution_count": 51
  },
  {
   "cell_type": "code",
   "id": "23ed7665",
   "metadata": {
    "ExecuteTime": {
     "end_time": "2025-08-31T11:06:16.603579Z",
     "start_time": "2025-08-31T11:06:16.592827Z"
    }
   },
   "source": [
    "\n",
    "# 03_reporting — Cell 9: Text-Antworten zu den Leitfragen\n",
    "def top_changes(delta_df: pd.DataFrame, k=3):\n",
    "    col = delta_df.columns[-1]\n",
    "    inc = delta_df[col].nlargest(k)\n",
    "    dec = delta_df[col].nsmallest(k)\n",
    "    return col, inc, dec\n",
    "\n",
    "col, inc, dec = top_changes(delta, k=3)\n",
    "def bullets(series) -> list[str]:\n",
    "    return [f\"- {idx}: {val:+.1f} pp ({col})\" for idx, val in series.items()]\n",
    "\n",
    "answers = []\n",
    "answers.append(\"Frage: **Welche Produktkategorien wurden mehr oder weniger gekauft?**\")\n",
    "answers.append(\"Mehr gekauft (Top-3):\\n\" + \"\\n\".join(bullets(inc)))\n",
    "answers.append(\"Weniger gekauft (Top-3):\\n\" + \"\\n\".join(bullets(dec)))\n",
    "\n",
    "answers.append(\"Frage: **In welchen Warengruppen gab es Wachstum oder Rückgang?**\")\n",
    "wachs = delta[delta[col] > 0].index.tolist()\n",
    "rueck = delta[delta[col] < 0].index.tolist()\n",
    "answers.append(\"Wachstum: \" + (\", \".join(wachs) if wachs else \"–\"))\n",
    "answers.append(\"Rückgang: \" + (\", \".join(rueck) if rueck else \"–\"))\n",
    "\n",
    "answers.append(\"Frage: **Gibt es Verschiebungen zwischen Bedarfsgütern und Luxusgütern?**\")\n",
    "if set([2021,2024]).issubset(need_lux_df.index):\n",
    "    answers.append(f\"- Bedarfsgüter gesamt: 2021 = {need_lux_df.loc[2021,'Bedarfsgüter']:.1f} %, 2024 = {need_lux_df.loc[2024,'Bedarfsgüter']:.1f} % → Δ = {need_lux_df.loc[2024,'Bedarfsgüter']-need_lux_df.loc[2021,'Bedarfsgüter']:+.1f} pp\")\n",
    "    answers.append(f\"- Luxusgüter gesamt:  2021 = {need_lux_df.loc[2021,'Luxusgüter']:.1f} %, 2024 = {need_lux_df.loc[2024,'Luxusgüter']:.1f} % → Δ = {need_lux_df.loc[2024,'Luxusgüter']-need_lux_df.loc[2021,'Luxusgüter']:+.1f} pp\")\n",
    "else:\n",
    "    answers.append(\"- Daten für 2021/2024 unvollständig; bitte prüfen.\")\n",
    "answers.append(\"Interpretation: **Prozentpunkte (pp)** ≠ Prozent. Positive Δ = Anteil stieg; negative Δ = Anteil sank.\")\n",
    "\n",
    "print(\"\\n\\n\".join(answers))\n"
   ],
   "outputs": [
    {
     "name": "stdout",
     "output_type": "stream",
     "text": [
      "Frage: **Welche Produktkategorien wurden mehr oder weniger gekauft?**\n",
      "\n",
      "Mehr gekauft (Top-3):\n",
      "- Kleidung / Schuhe: +49.0 pp (Δ 2021→2024)\n",
      "- Bücher / Medien / Software: +25.0 pp (Δ 2021→2024)\n",
      "- Elektronik (z. B. Smartphones, Haushaltsgeräte): +0.0 pp (Δ 2021→2024)\n",
      "\n",
      "Weniger gekauft (Top-3):\n",
      "- Medikamente / Drogerieartikel: -27.0 pp (Δ 2021→2024)\n",
      "- Hobby- & Freizeitartikel: -26.0 pp (Δ 2021→2024)\n",
      "- Möbel / Wohnaccessoires: -23.0 pp (Δ 2021→2024)\n",
      "\n",
      "Frage: **In welchen Warengruppen gab es Wachstum oder Rückgang?**\n",
      "\n",
      "Wachstum: Kleidung / Schuhe, Bücher / Medien / Software\n",
      "\n",
      "Rückgang: Lebensmittel / Getränke, Möbel / Wohnaccessoires, Hobby- & Freizeitartikel, Medikamente / Drogerieartikel\n",
      "\n",
      "Frage: **Gibt es Verschiebungen zwischen Bedarfsgütern und Luxusgütern?**\n",
      "\n",
      "- Bedarfsgüter gesamt: 2021 = 111.0 %, 2024 = 67.0 % → Δ = -44.0 pp\n",
      "\n",
      "- Luxusgüter gesamt:  2021 = 216.0 %, 2024 = 241.0 % → Δ = +25.0 pp\n",
      "\n",
      "Interpretation: **Prozentpunkte (pp)** ≠ Prozent. Positive Δ = Anteil stieg; negative Δ = Anteil sank.\n"
     ]
    }
   ],
   "execution_count": 37
  },
  {
   "cell_type": "code",
   "id": "2ec386aa",
   "metadata": {
    "ExecuteTime": {
     "end_time": "2025-08-31T11:06:16.616052Z",
     "start_time": "2025-08-31T11:06:16.611472Z"
    }
   },
   "source": [
    "\n",
    "# 03_reporting — Cell 10: Kurzbefund exportieren\n",
    "REPORT_TXT = OUT / \"reporting_kurzbefund.txt\"\n",
    "with open(REPORT_TXT, \"w\", encoding=\"utf-8\") as f:\n",
    "    f.write(\"\\n\\n\".join(answers))\n",
    "print(\"Kurzbefund exportiert →\", REPORT_TXT)\n",
    "print(\"Fertige Abbildungen →\", FIG)\n"
   ],
   "outputs": [
    {
     "name": "stdout",
     "output_type": "stream",
     "text": [
      "Kurzbefund exportiert → D:\\Q3_2025\\data-analytics\\project\\data\\processed\\reporting_kurzbefund.txt\n",
      "Fertige Abbildungen → D:\\Q3_2025\\data-analytics\\project\\reports\\figures\n"
     ]
    }
   ],
   "execution_count": 38
  }
 ],
 "metadata": {
  "kernelspec": {
   "name": "conda-base-py",
   "language": "python",
   "display_name": "Python [conda env:base] *"
  }
 },
 "nbformat": 4,
 "nbformat_minor": 5
}
