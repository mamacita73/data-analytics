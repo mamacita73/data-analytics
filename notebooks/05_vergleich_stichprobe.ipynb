{
 "cells": [
  {
   "cell_type": "markdown",
   "id": "31424caf",
   "metadata": {},
   "source": [
    "\n",
    "# 05 · Vergleich Stichprobe vs. Statista\n",
    "\n",
    "Dieses Notebook vergleicht die **Stichprobe 2025** mit den harmonisierten **Statista-Jahren** (Standard: 2024).\n",
    "Es erzeugt nachvollziehbare Abbildungen (Prozentwerte, 0–100 %) und zeigt **Differenzen in Prozentpunkten (pp)**.\n",
    "\n",
    "Optional: ein globaler Chi²-Goodness-of-Fit-Test (falls `scipy` verfügbar) prüft, ob sich die Verteilung\n",
    "der Stichprobe insgesamt von Statista unterscheidet.\n"
   ]
  },
  {
   "cell_type": "code",
   "id": "4d8288a3",
   "metadata": {
    "ExecuteTime": {
     "end_time": "2025-08-31T17:13:19.976796Z",
     "start_time": "2025-08-31T17:13:19.924762Z"
    }
   },
   "source": [
    "\n",
    "# 05_vergleich_stichprobe — Cell 1: Setup & Daten laden\n",
    "from __future__ import annotations\n",
    "\n",
    "from pathlib import Path\n",
    "import json\n",
    "import pandas as pd\n",
    "import matplotlib.pyplot as plt\n",
    "import matplotlib.ticker as mtick\n",
    "\n",
    "BASE = Path.cwd().resolve().parents[0] if Path.cwd().name.lower()==\"notebooks\" else Path.cwd()\n",
    "OUT  = BASE / \"data\" / \"processed\"\n",
    "FIG  = BASE / \"reports\" / \"figures\"\n",
    "FIG.mkdir(parents=True, exist_ok=True)\n",
    "\n",
    "CONFIG = json.loads((OUT / \"project_config.json\").read_text(encoding=\"utf-8\"))\n",
    "KANON  = CONFIG[\"kanon\"]\n",
    "\n",
    "# Daten laden\n",
    "stat_wide = pd.read_csv(OUT / \"statista_harmonisiert_2021_2022_2024.csv\").set_index(\"Kategorie\").reindex(KANON).fillna(0.0)\n",
    "sample_wide = pd.read_csv(OUT / \"umfrage_2025_wide.csv\").set_index(\"Kategorie\").reindex(KANON).fillna(0.0)\n",
    "\n",
    "# Spalten in int zahlen (z. B. \"2021\" -> 2021)\n",
    "def _to_int_if_year(c):\n",
    "    s = str(c).strip()\n",
    "    if s.endswith(\".0\") and s[:-2].isdigit():\n",
    "        s = s[:-2]\n",
    "    return int(s) if s.isdigit() else s\n",
    "stat_wide.columns   = [_to_int_if_year(c) for c in stat_wide.columns]\n",
    "sample_wide.columns = [_to_int_if_year(c) for c in sample_wide.columns]\n",
    "\n",
    "YEARS = sorted([c for c in stat_wide.columns if isinstance(c, int)])\n",
    "print(\"Statista Jahre:\", YEARS, \"| Sample Jahre:\", list(sample_wide.columns))\n",
    "\n",
    "COMPARE_YEAR = 2024  # Zieljahr Statista für den Vergleich\n",
    "assert COMPARE_YEAR in stat_wide.columns, f\"Statista-Zieljahr {COMPARE_YEAR} fehlt.\"\n",
    "assert 2025 in sample_wide.columns, \"Stichprobenjahr 2025 fehlt im Sample-Wide CSV.\"\n",
    "\n",
    "ref = stat_wide[COMPARE_YEAR].rename(\"Statista\")\n",
    "samp = sample_wide[2025].rename(\"Stichprobe 2025\")\n",
    "\n",
    "comp = pd.concat([ref, samp], axis=1).fillna(0.0)\n",
    "comp[\"Δ pp (Sample - Statista)\"] = comp[\"Stichprobe 2025\"] - comp[\"Statista\"]\n",
    "display(comp.head(10))\n"
   ],
   "outputs": [
    {
     "name": "stdout",
     "output_type": "stream",
     "text": [
      "Statista Jahre: [2021, 2022, 2024] | Sample Jahre: [2025]\n"
     ]
    },
    {
     "data": {
      "text/plain": [
       "                                                 Statista  Stichprobe 2025  \\\n",
       "Kategorie                                                                    \n",
       "Kleidung / Schuhe                                   106.0        69.230769   \n",
       "Elektronik (z. B. Smartphones, Haushaltsgeräte)      38.0        43.589744   \n",
       "Lebensmittel / Getränke                              16.0        15.384615   \n",
       "Bücher / Medien / Software                           25.0        46.153846   \n",
       "Medikamente / Drogerieartikel                        51.0        28.205128   \n",
       "Hobby- & Freizeitartikel                             57.0        53.846154   \n",
       "Möbel / Wohnaccessoires                              15.0         0.000000   \n",
       "\n",
       "                                                 Δ pp (Sample - Statista)  \n",
       "Kategorie                                                                  \n",
       "Kleidung / Schuhe                                              -36.769231  \n",
       "Elektronik (z. B. Smartphones, Haushaltsgeräte)                  5.589744  \n",
       "Lebensmittel / Getränke                                         -0.615385  \n",
       "Bücher / Medien / Software                                      21.153846  \n",
       "Medikamente / Drogerieartikel                                  -22.794872  \n",
       "Hobby- & Freizeitartikel                                        -3.153846  \n",
       "Möbel / Wohnaccessoires                                        -15.000000  "
      ],
      "text/html": [
       "<div>\n",
       "<style scoped>\n",
       "    .dataframe tbody tr th:only-of-type {\n",
       "        vertical-align: middle;\n",
       "    }\n",
       "\n",
       "    .dataframe tbody tr th {\n",
       "        vertical-align: top;\n",
       "    }\n",
       "\n",
       "    .dataframe thead th {\n",
       "        text-align: right;\n",
       "    }\n",
       "</style>\n",
       "<table border=\"1\" class=\"dataframe\">\n",
       "  <thead>\n",
       "    <tr style=\"text-align: right;\">\n",
       "      <th></th>\n",
       "      <th>Statista</th>\n",
       "      <th>Stichprobe 2025</th>\n",
       "      <th>Δ pp (Sample - Statista)</th>\n",
       "    </tr>\n",
       "    <tr>\n",
       "      <th>Kategorie</th>\n",
       "      <th></th>\n",
       "      <th></th>\n",
       "      <th></th>\n",
       "    </tr>\n",
       "  </thead>\n",
       "  <tbody>\n",
       "    <tr>\n",
       "      <th>Kleidung / Schuhe</th>\n",
       "      <td>106.0</td>\n",
       "      <td>69.230769</td>\n",
       "      <td>-36.769231</td>\n",
       "    </tr>\n",
       "    <tr>\n",
       "      <th>Elektronik (z. B. Smartphones, Haushaltsgeräte)</th>\n",
       "      <td>38.0</td>\n",
       "      <td>43.589744</td>\n",
       "      <td>5.589744</td>\n",
       "    </tr>\n",
       "    <tr>\n",
       "      <th>Lebensmittel / Getränke</th>\n",
       "      <td>16.0</td>\n",
       "      <td>15.384615</td>\n",
       "      <td>-0.615385</td>\n",
       "    </tr>\n",
       "    <tr>\n",
       "      <th>Bücher / Medien / Software</th>\n",
       "      <td>25.0</td>\n",
       "      <td>46.153846</td>\n",
       "      <td>21.153846</td>\n",
       "    </tr>\n",
       "    <tr>\n",
       "      <th>Medikamente / Drogerieartikel</th>\n",
       "      <td>51.0</td>\n",
       "      <td>28.205128</td>\n",
       "      <td>-22.794872</td>\n",
       "    </tr>\n",
       "    <tr>\n",
       "      <th>Hobby- &amp; Freizeitartikel</th>\n",
       "      <td>57.0</td>\n",
       "      <td>53.846154</td>\n",
       "      <td>-3.153846</td>\n",
       "    </tr>\n",
       "    <tr>\n",
       "      <th>Möbel / Wohnaccessoires</th>\n",
       "      <td>15.0</td>\n",
       "      <td>0.000000</td>\n",
       "      <td>-15.000000</td>\n",
       "    </tr>\n",
       "  </tbody>\n",
       "</table>\n",
       "</div>"
      ]
     },
     "metadata": {},
     "output_type": "display_data"
    }
   ],
   "execution_count": 12
  },
  {
   "cell_type": "code",
   "id": "ac4e6d4a",
   "metadata": {
    "ExecuteTime": {
     "end_time": "2025-08-31T17:13:20.176535Z",
     "start_time": "2025-08-31T17:13:20.125646Z"
    }
   },
   "source": [
    "# Einheitlicher Stil + robustes Layout\n",
    "import matplotlib.pyplot as plt\n",
    "import matplotlib.ticker as mtick\n",
    "\n",
    "plt.rcParams.update({\n",
    "    \"figure.dpi\": 120,\n",
    "    \"savefig.dpi\": 300,\n",
    "    \"font.size\": 11,\n",
    "    \"axes.titlesize\": 12,\n",
    "    \"axes.labelsize\": 11,\n",
    "    \"axes.grid\": True,\n",
    "    \"grid.alpha\": 0.2,\n",
    "    \"axes.spines.top\": False,\n",
    "    \"axes.spines.right\": False,\n",
    "    # Empfehlung: kein autolayout, wir nutzen constrained_layout gezielt pro Figure\n",
    "    \"figure.autolayout\": False,\n",
    "})\n",
    "\n",
    "def percent_axis(ax, axis=\"y\", decimals=0, limit=(0, 100), pad_pct=0):\n",
    "    \"\"\"\n",
    "    Prozent-Achse 0–100 % mit optionaler rechter/linker Padding-Reserve (pad_pct in %-Punkten),\n",
    "    damit äußere Labels nicht abgeschnitten werden.\n",
    "    \"\"\"\n",
    "    lo, hi = limit\n",
    "    hi_padded = hi + float(pad_pct)\n",
    "    fmt = mtick.PercentFormatter(xmax=100, decimals=decimals)\n",
    "    if axis == \"y\":\n",
    "        ax.set_ylim(lo, hi_padded)\n",
    "        ax.yaxis.set_major_formatter(fmt)\n",
    "    else:\n",
    "        ax.set_xlim(lo, hi_padded)\n",
    "        ax.xaxis.set_major_formatter(fmt)\n",
    "\n",
    "def label_bars(ax, decimals=1, rotate=0, inside=False):\n",
    "    \"\"\"\n",
    "    Beschriftet Balken. inside=True platziert Werte IN den Balken (vermeidet Abschneiden).\n",
    "    \"\"\"\n",
    "    fmt = f\"%.{decimals}f %%\"\n",
    "    for c in ax.containers:\n",
    "        if inside:\n",
    "            ax.bar_label(c, fmt=fmt, padding=2, fontsize=8, rotation=rotate, label_type=\"center\")\n",
    "        else:\n",
    "            ax.bar_label(c, fmt=fmt, padding=2, fontsize=8, rotation=rotate)\n",
    "\n",
    "def label_hbars_right(ax, bars, decimals=1, dx=1.0):\n",
    "    \"\"\"\n",
    "    Beschriftet H-Balken RECHTS außerhalb, mit kleiner Reserve dx (in %-Punkten).\n",
    "    Setzt clip_on=False, damit nichts „hart“ an der Achse abgeschnitten wird.\n",
    "    \"\"\"\n",
    "    for rect in bars:\n",
    "        v = rect.get_width()\n",
    "        ax.text(v + dx, rect.get_y() + rect.get_height()/2,\n",
    "                f\"{v:.{decimals}f} %\", va=\"center\", ha=\"left\", fontsize=9, clip_on=False)\n",
    "\n",
    "def footer(note: str):\n",
    "    # Fußnote leicht nach unten, wird durch bbox_inches='tight' mitgenommen\n",
    "    plt.figtext(0.01, -0.04, note, ha=\"left\", va=\"top\", fontsize=9)\n",
    "\n",
    "def save_fig(path):\n",
    "    # 'tight' + pad verhindert Abschneiden (Legende, lange Labels)\n",
    "    plt.savefig(path, bbox_inches=\"tight\", pad_inches=0.25, facecolor=\"white\")\n",
    "    plt.close()\n"
   ],
   "outputs": [],
   "execution_count": 13
  },
  {
   "cell_type": "code",
   "id": "7c8cfe24",
   "metadata": {
    "ExecuteTime": {
     "end_time": "2025-08-31T17:13:21.283599Z",
     "start_time": "2025-08-31T17:13:20.209594Z"
    }
   },
   "source": [
    "\n",
    "# 05_vergleich_stichprobe — Cell 3: Balkendiagramm Sample vs. Statista (je Kategorie)\n",
    "fig, ax = plt.subplots(figsize=(12, 6), layout=\"constrained\")\n",
    "# KEIN plt.tight_layout() zusätzlich! (beides zusammen kann stören)\n",
    "\n",
    "comp[[\"Statista\",\"Stichprobe 2025\"]].plot(kind=\"bar\", ax=ax, width=0.8)\n",
    "label_bars(ax, decimals=1, rotate=90)\n",
    "ax.set_title(f\"Vergleich je Kategorie: Stichprobe 2025 vs. Statista {COMPARE_YEAR}\")\n",
    "ax.set_xlabel(\"Kategorie\")\n",
    "ax.set_ylabel(\"Anteil in %\")\n",
    "percent_axis(ax, axis=\"y\", decimals=0, limit=(0, 120))\n",
    "ax.legend(title=\"\", frameon=False, loc=\"upper left\", bbox_to_anchor=(1.01, 1.0))\n",
    "plt.xticks(rotation=45, ha=\"right\")\n",
    "plt.tight_layout()\n",
    "footer(\"Hinweis: Prozentwerte. Stichprobe = Anteil Befragter, die die Kategorie auswählten (bei Multi-Choice).\")\n",
    "save_fig(FIG / \"05_sample_vs_statista_bars.png\")\n"
   ],
   "outputs": [
    {
     "name": "stderr",
     "output_type": "stream",
     "text": [
      "C:\\Users\\admin\\AppData\\Local\\Temp\\ipykernel_25108\\1345936679.py:13: UserWarning: The figure layout has changed to tight\n",
      "  plt.tight_layout()\n"
     ]
    }
   ],
   "execution_count": 14
  },
  {
   "cell_type": "code",
   "id": "c7f8e772",
   "metadata": {
    "ExecuteTime": {
     "end_time": "2025-08-31T17:13:21.670174Z",
     "start_time": "2025-08-31T17:13:21.291606Z"
    }
   },
   "source": [
    "\n",
    "# 05_vergleich_stichprobe — Cell 4: Differenzen (pp)\n",
    "comp_sorted = comp.sort_values(\"Δ pp (Sample - Statista)\", ascending=False)\n",
    "\n",
    "fig, ax = plt.subplots(figsize=(12, 6), layout=\"constrained\")\n",
    "# KEIN plt.tight_layout() zusätzlich! (beides zusammen kann stören)\n",
    "\n",
    "ax.barh(comp_sorted.index, comp_sorted[\"Δ pp (Sample - Statista)\"].values)\n",
    "for rect, v in zip(ax.patches, comp_sorted[\"Δ pp (Sample - Statista)\"].values):\n",
    "    ax.text((0.5 if v>=0 else -0.5) + v, rect.get_y() + rect.get_height()/2,\n",
    "            f\"{v:+.1f} pp\", va=\"center\", ha=\"left\" if v>=0 else \"right\", fontsize=9)\n",
    "ax.set_title(\"Differenzen Stichprobe 2025 – Statista 2024 (Prozentpunkte)\")\n",
    "ax.set_xlabel(\"Δ in Prozentpunkten (pp)\")\n",
    "# symmetrische Skala um 0\n",
    "left  = min(-10, float(comp_sorted[\"Δ pp (Sample - Statista)\"].min())-2)\n",
    "right = max( 10, float(comp_sorted[\"Δ pp (Sample - Statista)\"].max())+2)\n",
    "ax.set_xlim(left, right)\n",
    "ax.axvline(0, linewidth=1)\n",
    "plt.tight_layout()\n",
    "footer(\"Anmerkung: Δ in Prozentpunkten (pp). Positiv = Stichprobe höher; Negativ = Stichprobe niedriger.\")\n",
    "save_fig(FIG / \"05_sample_minus_statista_diffs.png\")\n"
   ],
   "outputs": [
    {
     "name": "stderr",
     "output_type": "stream",
     "text": [
      "C:\\Users\\admin\\AppData\\Local\\Temp\\ipykernel_25108\\1751339213.py:18: UserWarning: The figure layout has changed to tight\n",
      "  plt.tight_layout()\n"
     ]
    }
   ],
   "execution_count": 15
  },
  {
   "cell_type": "code",
   "id": "ee2e8bf9",
   "metadata": {
    "ExecuteTime": {
     "end_time": "2025-08-31T17:13:21.690944Z",
     "start_time": "2025-08-31T17:13:21.678760Z"
    }
   },
   "source": [
    "\n",
    "# 05_vergleich_stichprobe — Cell 5: (Optional) globaler Chi²-Test\n",
    "# Prüft, ob sich die Verteilung (über alle Kategorien) unterscheidet.\n",
    "# Voraussetzung: Sample zählt Auswahl je Kategorie (cnt) und Summe der Statista-Proportionen ist > 0.\n",
    "\n",
    "try:\n",
    "    from scipy.stats import chisquare\n",
    "    # Sample counts rekonstruieren aus share_% und N (aus 04 exportiert)\n",
    "    sample_long = pd.read_csv(OUT / \"umfrage_2025_long.csv\")\n",
    "    # Respondenten N schätzen (cnt ist pro Kategorie; bei single == N, bei multi Auswahlzählungen)\n",
    "    # Wir nehmen N = Anzahl Zeilen der Originaldatei nicht direkt; stattdessen:\n",
    "    # Für single-choice: Summe(cnt) ~ N; für multi-choice: cnt_sum >= N; wir nutzen die max(cnt) als Proxy für N.\n",
    "    N_proxy = int(sample_long[\"cnt\"].max())\n",
    "    # Erwartete Counts gemäß Statista (p * N_proxy)\n",
    "    exp = (stat_wide[COMPARE_YEAR] / 100.0) * N_proxy\n",
    "    obs = (sample_long.set_index(\"Kategorie\").reindex(KANON)[\"cnt\"]).fillna(0.0)\n",
    "    # Beide Vektoren angleichen\n",
    "    exp = exp.reindex(KANON).fillna(0.0)\n",
    "    obs = obs.reindex(KANON).fillna(0.0)\n",
    "    # Nur positive Erwartungen verwenden (chi² Voraussetzung)\n",
    "    mask = exp > 0\n",
    "    chi2, p = chisquare(f_obs=obs[mask], f_exp=exp[mask])\n",
    "    print(f\"Chi²-Test (global): chi2 = {chi2:.2f}, p = {p:.4f} (N≈{N_proxy})\")\n",
    "except Exception as e:\n",
    "    print(\"Chi²-Test übersprungen (scipy nicht verfügbar oder unpassende Daten). Hinweis:\", e)\n"
   ],
   "outputs": [
    {
     "name": "stdout",
     "output_type": "stream",
     "text": [
      "Chi²-Test übersprungen (scipy nicht verfügbar oder unpassende Daten). Hinweis: For each axis slice, the sum of the observed frequencies must agree with the sum of the expected frequencies to a relative tolerance of 1.4901161193847656e-08, but the percent differences are:\n",
      "0.20250120250120254\n"
     ]
    }
   ],
   "execution_count": 16
  }
 ],
 "metadata": {
  "kernelspec": {
   "name": "conda-base-py",
   "language": "python",
   "display_name": "Python [conda env:base] *"
  }
 },
 "nbformat": 4,
 "nbformat_minor": 5
}
